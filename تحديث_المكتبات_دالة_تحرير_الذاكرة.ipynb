{
  "nbformat": 4,
  "nbformat_minor": 0,
  "metadata": {
    "colab": {
      "private_outputs": true,
      "provenance": [],
      "authorship_tag": "ABX9TyP9llizpXUjagcTqfWmfmoj",
      "include_colab_link": true
    },
    "kernelspec": {
      "name": "python3",
      "display_name": "Python 3"
    },
    "language_info": {
      "name": "python"
    }
  },
  "cells": [
    {
      "cell_type": "markdown",
      "metadata": {
        "id": "view-in-github",
        "colab_type": "text"
      },
      "source": [
        "<a href=\"https://colab.research.google.com/github/mahdi-alalawi/AndroidTutorialForBeginners/blob/master/%D8%AA%D8%AD%D8%AF%D9%8A%D8%AB_%D8%A7%D9%84%D9%85%D9%83%D8%AA%D8%A8%D8%A7%D8%AA_%D8%AF%D8%A7%D9%84%D8%A9_%D8%AA%D8%AD%D8%B1%D9%8A%D8%B1_%D8%A7%D9%84%D8%B0%D8%A7%D9%83%D8%B1%D8%A9.ipynb\" target=\"_parent\"><img src=\"https://colab.research.google.com/assets/colab-badge.svg\" alt=\"Open In Colab\"/></a>"
      ]
    },
    {
      "cell_type": "code",
      "execution_count": null,
      "metadata": {
        "id": "NUSwuWBoFx-7"
      },
      "outputs": [],
      "source": [
        "# تحديث pip أولاً\n",
        "pip install --upgrade pip\n",
        "\n",
        "# تثبيت المكتبات المطلوبة\n",
        "pip install --upgrade MetaTrader5 pandas numpy requests beautifulsoup4 textblob scikit-learn xgboost\n"
      ]
    },
    {
      "cell_type": "code",
      "source": [
        "import MetaTrader5 as mt5\n",
        "import pandas as pd\n",
        "import numpy as np\n",
        "import requests\n",
        "from bs4 import BeautifulSoup\n",
        "from textblob import TextBlob\n",
        "from sklearn.model_selection import train_test_split\n",
        "from xgboost import XGBRegressor\n",
        "from sklearn.metrics import mean_squared_error\n",
        "import time  # استيراد مكتبة الوقت\n",
        "import gc  # استيراد مكتبة جمع القمامة\n",
        "\n",
        "# بدء الاتصال مع MT5\n",
        "if not mt5.initialize():\n",
        "    print(\"initialize() failed\")\n",
        "    mt5.shutdown()\n",
        "\n",
        "# تسجيل الدخول\n",
        "account = 83967  # أدخل رقم حسابك\n",
        "password = \"NU6-caQp\"  # أدخل كلمة المرور\n",
        "server = \"RoyalInvestment-Server\"  # أدخل اسم السيرفر\n",
        "\n",
        "if not mt5.login(account, password, server):\n",
        "    print(\"login failed\")\n",
        "    mt5.shutdown()\n",
        "\n",
        "def free_memory():\n",
        "    \"\"\"تحرير الذاكرة غير المستخدمة.\"\"\"\n",
        "    gc.collect()  # استدعاء جمع القمامة لتحرير الذاكرة\n",
        "    print(\"Memory has been freed.\")\n",
        "\n",
        "# وظائف أخرى هنا...\n",
        "\n",
        "# تنفيذ الاستراتيجية بشكل مستمر\n",
        "if __name__ == \"__main__\":\n",
        "    last_memory_cleanup = time.time()  # حفظ وقت آخر تنظيف للذاكرة\n",
        "    while True:\n",
        "        # جمع البيانات\n",
        "        data = get_and_clean_gold_prices()\n",
        "\n",
        "        if data is not None:\n",
        "            # تحديث وقف الخسارة لجميع الصفقات\n",
        "            set_break_even_all_positions()\n",
        "\n",
        "            # بناء الاستراتيجية أو تنفيذ الأوامر\n",
        "            build_strategy(data)\n",
        "\n",
        "        # تحرير الذاكرة كل خمس ساعات\n",
        "        current_time = time.time()\n",
        "        if current_time - last_memory_cleanup >= 5 * 60 * 60:  # 5 ساعات\n",
        "            free_memory()\n",
        "            last_memory_cleanup = current_time  # تحديث وقت آخر تنظيف للذاكرة\n",
        "\n",
        "        # تأخير زمني بين التكرارات\n",
        "        time.sleep(5)  # يمكنك تعديل الوقت حسب الحاجة\n"
      ],
      "metadata": {
        "id": "dIL5lsBeX8qJ"
      },
      "execution_count": null,
      "outputs": []
    }
  ]
}