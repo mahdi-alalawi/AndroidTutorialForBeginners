{
  "nbformat": 4,
  "nbformat_minor": 0,
  "metadata": {
    "colab": {
      "private_outputs": true,
      "provenance": [],
      "authorship_tag": "ABX9TyOLGSKZENcVoiF0WIqOtFGg",
      "include_colab_link": true
    },
    "kernelspec": {
      "name": "python3",
      "display_name": "Python 3"
    },
    "language_info": {
      "name": "python"
    }
  },
  "cells": [
    {
      "cell_type": "markdown",
      "metadata": {
        "id": "view-in-github",
        "colab_type": "text"
      },
      "source": [
        "<a href=\"https://colab.research.google.com/github/mahdi-alalawi/AndroidTutorialForBeginners/blob/master/%D8%A7%D9%84%D9%87%D9%8A%D8%AF%D8%AC.ipynb\" target=\"_parent\"><img src=\"https://colab.research.google.com/assets/colab-badge.svg\" alt=\"Open In Colab\"/></a>"
      ]
    },
    {
      "cell_type": "code",
      "source": [
        "def hedge_position_with_retrace_limit(symbol):\n",
        "    \"\"\"تطبيق استراتيجية الهيدج مع قيود على عدد الصفقات المفتوحة وحجم الصفقة الجديدة بنفس الاتجاه.\"\"\"\n",
        "    positions = mt5.positions_get(symbol=symbol)\n",
        "    open_positions_count = len(positions)\n",
        "\n",
        "    # تحقق من عدد الصفقات المفتوحة\n",
        "    if open_positions_count >= 7:\n",
        "        print(\"عدد الصفقات المفتوحة بلغ الحد الأقصى (7).\")\n",
        "        return\n",
        "\n",
        "    if positions:\n",
        "        for position in positions:\n",
        "            # تحديد سعر الدخول ووقف الخسارة\n",
        "            entry_price = position.price_open\n",
        "            stop_loss = position.sl  # سعر وقف الخسارة\n",
        "\n",
        "            # حساب المسافة بين سعر الدخول ووقف الخسارة\n",
        "            distance_to_sl = entry_price - stop_loss if position.type == 0 else stop_loss - entry_price  # 0 = BUY, 1 = SELL\n",
        "\n",
        "            # حساب السعر الذي يمثل 75% من المسافة نحو وقف الخسارة\n",
        "            retrace_price = entry_price - (0.75 * distance_to_sl) if position.type == 0 else entry_price + (0.75 * distance_to_sl)  # 0 = BUY, 1 = SELL\n",
        "\n",
        "            # الحصول على السعر الحالي\n",
        "            current_price = mt5.symbol_info_tick(symbol).bid if position.type == 0 else mt5.symbol_info_tick(symbol).ask  # 0 = BUY, 1 = SELL\n",
        "\n",
        "            # إذا كان السعر الحالي قد تراجع بنسبة 75% نحو وقف الخسارة\n",
        "            if (position.type == 0 and current_price <= retrace_price) or \\\n",
        "               (position.type == 1 and current_price >= retrace_price):  # 0 = BUY, 1 = SELL\n",
        "\n",
        "                # فتح مركز بنفس الاتجاه\n",
        "                hedge_request = {\n",
        "                    \"action\": mt5.TRADE_ACTION_DEAL,\n",
        "                    \"symbol\": symbol,\n",
        "                    \"volume\": position.volume,  # نفس حجم المركز الحالي\n",
        "                    \"type\": position.type,  # نفس نوع الصفقة (0 = BUY, 1 = SELL)\n",
        "                    \"price\": mt5.symbol_info_tick(symbol).ask if position.type == 0 else mt5.symbol_info_tick(symbol).bid,\n",
        "                    \"sl\": 0,\n",
        "                    \"tp\": 0,\n",
        "                    \"magic\": 123456,\n",
        "                    \"comment\": \"Hedge position in the same direction\",\n",
        "                }\n",
        "\n",
        "                # إرسال الطلب\n",
        "                result = mt5.order_send(hedge_request)\n",
        "                if result.retcode != mt5.TRADE_RETCODE_DONE:\n",
        "                    print(f\"فشل في فتح الصفقة: {result.retcode}\")\n"
      ],
      "metadata": {
        "id": "gFHM7Swdq9nW"
      },
      "execution_count": null,
      "outputs": []
    }
  ]
}