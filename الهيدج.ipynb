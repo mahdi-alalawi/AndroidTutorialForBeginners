{
  "nbformat": 4,
  "nbformat_minor": 0,
  "metadata": {
    "colab": {
      "private_outputs": true,
      "provenance": [],
      "authorship_tag": "ABX9TyOto+FnIA4zwK7PFMtDjgZu",
      "include_colab_link": true
    },
    "kernelspec": {
      "name": "python3",
      "display_name": "Python 3"
    },
    "language_info": {
      "name": "python"
    }
  },
  "cells": [
    {
      "cell_type": "markdown",
      "metadata": {
        "id": "view-in-github",
        "colab_type": "text"
      },
      "source": [
        "<a href=\"https://colab.research.google.com/github/mahdi-alalawi/AndroidTutorialForBeginners/blob/master/%D8%A7%D9%84%D9%87%D9%8A%D8%AF%D8%AC.ipynb\" target=\"_parent\"><img src=\"https://colab.research.google.com/assets/colab-badge.svg\" alt=\"Open In Colab\"/></a>"
      ]
    },
    {
      "cell_type": "code",
      "execution_count": null,
      "metadata": {
        "id": "beofG-59RZzT"
      },
      "outputs": [],
      "source": [
        "def hedge_position_with_retrace_limit(symbol):\n",
        "    \"\"\"تطبيق استراتيجية الهيدج مع قيود على عدد الصفقات المفتوحة وحجم الصفقة الجديدة.\"\"\"\n",
        "    positions = mt5.positions_get(symbol=symbol)\n",
        "    open_positions_count = len(positions)\n",
        "\n",
        "    # تحقق من عدد الصفقات المفتوحة\n",
        "    if open_positions_count >= 7:\n",
        "        print(\"عدد الصفقات المفتوحة بلغ الحد الأقصى (7).\")\n",
        "        return\n",
        "\n",
        "    if positions:\n",
        "        for position in positions:\n",
        "            # تحديد سعر الدخول ووقف الخسارة\n",
        "            entry_price = position.price_open\n",
        "            stop_loss = position.sl  # سعر وقف الخسارة\n",
        "\n",
        "            # حساب المسافة بين سعر الدخول ووقف الخسارة\n",
        "            distance_to_sl = entry_price - stop_loss if position.type == mt5.ORDER_BUY else stop_loss - entry_price\n",
        "\n",
        "            # حساب السعر الذي يمثل 75% من المسافة نحو وقف الخسارة\n",
        "            retrace_price = entry_price - (0.75 * distance_to_sl) if position.type == mt5.ORDER_BUY else entry_price + (0.75 * distance_to_sl)\n",
        "\n",
        "            # الحصول على السعر الحالي\n",
        "            current_price = mt5.symbol_info_tick(symbol).bid if position.type == mt5.ORDER_BUY else mt5.symbol_info_tick(symbol).ask\n",
        "\n",
        "            # إذا كان السعر الحالي قد تراجع بنسبة 75% نحو وقف الخسارة\n",
        "            if (position.type == mt5.ORDER_BUY and current_price <= retrace_price) or \\\n",
        "               (position.type == mt5.ORDER_SELL and current_price >= retrace_price):\n",
        "\n",
        "                # فتح مركز معكوس إذا كان العدد أقل من 7\n",
        "                hedge_request = {\n",
        "                    \"action\": mt5.TRADE_ACTION_DEAL,\n",
        "                    \"symbol\": symbol,\n",
        "                    \"volume\": position.volume,  # نفس حجم المركز الحالي\n",
        "                    \"type\": mt5.ORDER_SELL if position.type == mt5.ORDER_BUY else mt5.ORDER_BUY,  # نوع الصفقة المعكوسة\n",
        "                    \"price\": mt5.symbol_info_tick(symbol).bid if position.type == mt5.ORDER_BUY else mt5.symbol_info_tick(symbol).ask,  # السعر الحالي\n",
        "                    \"sl\": 0,  # يمكنك تعيين وقف الخسارة إذا لزم الأمر\n",
        "                    \"tp\": 0,  # يمكنك تعيين جني الأرباح إذا لزم الأمر\n",
        "                    \"magic\": 123456,  # رقم سحري فريد\n",
        "                    \"comment\": \"Hedging position on retrace\",\n",
        "                }\n",
        "                result = mt5.order_send(hedge_request)\n",
        "                if result.retcode != mt5.TRADE_RETCODE_DONE:\n",
        "                    print(f\"فشل في فتح صفقة الهيدج: {result.retcode}\")\n",
        "\n",
        "    # إذا كان عدد الصفقات أقل من 7 و5 أو أقل، افتح صفقة جديدة بنفس حجم الصفقة القديمة\n",
        "    if open_positions_count < 7 and open_positions_count <= 5:\n",
        "        # استخدام حجم الصفقة القديمة\n",
        "        last_position_volume = positions[-1].volume if positions else 1.0  # إذا لم توجد صفقات، استخدم حجم افتراضي\n",
        "\n",
        "        # فتح صفقة جديدة هنا\n",
        "        new_request = {\n",
        "            \"action\": mt5.TRADE_ACTION_DEAL,\n",
        "            \"symbol\": symbol,\n",
        "            \"volume\": last_position_volume,  # حجم الصفقة الجديدة هو نفس حجم الصفقة القديمة\n",
        "            \"type\": mt5.ORDER_BUY,  # نوع الصفقة الجديدة (يمكن تغييره حسب الحاجة)\n",
        "            \"price\": mt5.symbol_info_tick(symbol).ask,  # السعر الحالي\n",
        "            \"sl\": 0,  # يمكنك تعيين وقف الخسارة إذا لزم الأمر\n",
        "            \"tp\": 0,  # يمكنك تعيين جني الأرباح إذا لزم الأمر\n",
        "            \"magic\": 123456,  # رقم سحري فريد\n",
        "            \"comment\": \"New position to reach 7 trades\",\n",
        "        }\n",
        "        new_result = mt5.order_send(new_request)\n",
        "        if new_result.retcode != mt5.TRADE_RETCODE_DONE:\n",
        "            print(f\"فشل في فتح صفقة جديدة: {new_result.retcode}\")\n"
      ]
    }
  ]
}