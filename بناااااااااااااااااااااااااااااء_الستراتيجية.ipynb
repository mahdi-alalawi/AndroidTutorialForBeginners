{
  "nbformat": 4,
  "nbformat_minor": 0,
  "metadata": {
    "colab": {
      "private_outputs": true,
      "provenance": [],
      "include_colab_link": true
    },
    "kernelspec": {
      "name": "python3",
      "display_name": "Python 3"
    },
    "language_info": {
      "name": "python"
    }
  },
  "cells": [
    {
      "cell_type": "markdown",
      "metadata": {
        "id": "view-in-github",
        "colab_type": "text"
      },
      "source": [
        "<a href=\"https://colab.research.google.com/github/mahdi-alalawi/AndroidTutorialForBeginners/blob/master/%D8%A8%D9%86%D8%A7%D8%A7%D8%A7%D8%A7%D8%A7%D8%A7%D8%A7%D8%A7%D8%A7%D8%A7%D8%A7%D8%A7%D8%A7%D8%A7%D8%A7%D8%A7%D8%A7%D8%A7%D8%A7%D8%A7%D8%A7%D8%A7%D8%A7%D8%A7%D8%A7%D8%A7%D8%A7%D8%A7%D8%A7%D8%A1_%D8%A7%D9%84%D8%B3%D8%AA%D8%B1%D8%A7%D8%AA%D9%8A%D8%AC%D9%8A%D8%A9.ipynb\" target=\"_parent\"><img src=\"https://colab.research.google.com/assets/colab-badge.svg\" alt=\"Open In Colab\"/></a>"
      ]
    },
    {
      "cell_type": "code",
      "source": [
        "def build_strategy(data):\n",
        "    \"\"\"بناء الاستراتيجية الكاملة مع تحليل جميع المؤشرات.\"\"\"\n",
        "    try:\n",
        "        # جلب الأخبار ذات التأثير العالي\n",
        "        news_times = fetch_high_impact_news()\n",
        "\n",
        "        data['target'] = data['close'].shift(-1)  # استخدام سعر الإغلاق في اليوم التالي كهدف\n",
        "        data.dropna(inplace=True)  # إزالة الصفوف التي تحتوي على قيم NaN\n",
        "\n",
        "        # حساب جميع المؤشرات\n",
        "        data = calculate_rsi(data)  # حساب مؤشر القوة النسبية\n",
        "        data = calculate_moving_average(data)  # حساب المتوسط المتحرك\n",
        "        data = calculate_moving_average20(data)\n",
        "        calculate_and_plot_supply_demand_zones(data)\n",
        "        premium, discount = calculate_premium_discount(data)  # حساب العلاوة والخصم\n",
        "        data['Premium'] = premium\n",
        "        data['Discount'] = discount\n",
        "\n",
        "        data = calculate_bollinger_bands(data)\n",
        "        data = calculate_macd(data)\n",
        "        data = calculate_stochastic(data)  # حساب مؤشر Stochastic\n",
        "        plot_stochastic(data)  # رسم المؤشر\n",
        "\n",
        "        # جلب آخر صف من البيانات\n",
        "        last_row = data.iloc[-1]\n",
        "\n",
        "        # حساب عدد الصفقات المفتوحة\n",
        "        open_positions_count = len(mt5.positions_get(symbol=\"XAUUSD\"))\n",
        "\n",
        "        # طباعة القيم لتسهيل تتبع الأخطاء\n",
        "        print(f\"Last Row: {last_row}\")\n",
        "        print(f\"Open Positions Count: {open_positions_count}\")\n",
        "\n",
        "        # فتح أمر بيع من الأسفل\n",
        "        if (last_row['target'] < last_row['close'] and\n",
        "            last_row['Lower_Band'] < last_row['close'] < last_row['Middle_Band'] and\n",
        "            last_row['Signal_Line'] > last_row['MACD'] and\n",
        "            last_row['Premium'] < last_row['Discount'] and\n",
        "            50 > last_row['RSI'] > 30 and\n",
        "            last_row['%K'] < last_row['%D'] and\n",
        "            last_row['MA'] > last_row['MA20'] > last_row['close'] and\n",
        "            open_positions_count < 5):\n",
        "            result = place_order(\"XAUUSD\", \"sell\", volume=0.01)\n",
        "            if result is None:\n",
        "                print(\"Failed to place sell order from below.\")\n",
        "            else:\n",
        "                print(\"تم فتح أمر بيع من الأسفل.\")\n",
        "\n",
        "        # فتح أمر بيع من الأعلى\n",
        "        elif (last_row['target'] > last_row['close'] and\n",
        "              last_row['Middle_Band'] < last_row['close'] < last_row['Upper_Band'] and\n",
        "              last_row['Signal_Line'] < last_row['MACD'] and\n",
        "              last_row['Premium'] < last_row['Discount'] and\n",
        "              50 > last_row['RSI'] > 30 and\n",
        "              last_row['%K'] > last_row['%D'] and\n",
        "              last_row['MA20'] < last_row['close'] < last_row['MA'] and\n",
        "              open_positions_count < 5):\n",
        "            result = place_order(\"XAUUSD\", \"sell\", volume=0.01)\n",
        "            if result is None:\n",
        "                print(\"Failed to place sell order from above.\")\n",
        "            else:\n",
        "                print(\"تم فتح أمر بيع من الأعلى.\")\n",
        "\n",
        "        # فتح أمر شراء من الأعلى\n",
        "        elif (last_row['target'] > last_row['close'] and\n",
        "              last_row['Middle_Band'] < last_row['close'] < last_row['Upper_Band'] and\n",
        "              last_row['Signal_Line'] < last_row['MACD'] and\n",
        "              last_row['Premium'] > last_row['Discount'] and\n",
        "              50 > last_row['RSI'] < 70 and\n",
        "              last_row['%K'] > last_row['%D'] and\n",
        "              last_row['MA'] < last_row['MA20'] < last_row['close'] and\n",
        "              open_positions_count < 5):\n",
        "            result = place_order(\"XAUUSD\", \"buy\", volume=0.01)\n",
        "            if result is None:\n",
        "                print(\"Failed to place buy order from above.\")\n",
        "            else:\n",
        "                print(\"تم فتح أمر شراء من الأعلى.\")\n",
        "\n",
        "        # فتح أمر شراء من الأسفل\n",
        "        elif (last_row['target'] < last_row['close'] and\n",
        "              last_row['Lower_Band'] < last_row['close'] < last_row['Middle_Band'] and\n",
        "              last_row['Signal_Line'] > last_row['MACD'] and\n",
        "              last_row['Premium'] > last_row['Discount'] and\n",
        "              50 > last_row['RSI'] < 70 and\n",
        "              last_row['%K'] < last_row['%D'] and\n",
        "              last_row['MA'] < last_row['close'] < last_row['MA20'] and\n",
        "              open_positions_count < 5):\n",
        "            result = place_order(\"XAUUSD\", \"buy\", volume=0.01)\n",
        "            if result is None:\n",
        "                print(\"Failed to place buy order from below.\")\n",
        "            else:\n",
        "                print(\"تم فتح أمر شراء من الأسفل.\")\n",
        "\n",
        "    except Exception as e:\n",
        "        print(f\"An error occurred while building the strategy: {e}\")\n"
      ],
      "metadata": {
        "id": "iN6GMtahrrpY"
      },
      "execution_count": null,
      "outputs": []
    },
    {
      "cell_type": "code",
      "source": [
        "rsi: 43.01790281329931Moving Average (MA): 2990.0868Moving Average20 (MA): 2986.9105Last Row: close 2985.590000high 2987.230000low 2985.370000target 2985.800000RSI 43.017903MA 2986.910500Premium 7.250000Discount 10.520000Middle_Band 2988.078000Std_Dev 1.864154Upper_Band 2991.806308Lower_Band 2984.349692EMA_short 2987.512404EMA_long 2988.436474MACD -0.924070Signal_Line -1.126992%K 40.799100%D 47.738839Name: 2025-03-14 21:00:00, dtype: float64Open Positions Count: 0\n"
      ],
      "metadata": {
        "id": "I_cWoq5bVZGt"
      },
      "execution_count": null,
      "outputs": []
    },
    {
      "cell_type": "code",
      "source": [
        "RSI: 56.89297361399265\n",
        "Moving Average (MA): 2989.9326\n",
        "Moving Average20 (MA): 2986.0625\n",
        "Last Row: close          2987.990000\n",
        "high           2988.120000\n",
        "low            2982.460000\n",
        "target         2986.430000\n",
        "RSI              56.892974\n",
        "MA             2986.062500\n",
        "Premium           6.380000\n",
        "Discount          2.490000\n",
        "Middle_Band    2984.306000\n",
        "Std_Dev           2.095455\n",
        "Upper_Band     2988.496909\n",
        "Lower_Band     2980.115091\n",
        "EMA_short      2985.112029\n",
        "EMA_long       2986.288154\n",
        "MACD             -1.176125\n",
        "Signal_Line      -1.367288\n",
        "%K               76.553672\n",
        "%D               46.670085\n",
        "Name: 2025-03-14 23:30:00, dtype: float64\n",
        "Open Positions Count: 0\n"
      ],
      "metadata": {
        "id": "3O4gT08GqgPo"
      },
      "execution_count": null,
      "outputs": []
    }
  ]
}