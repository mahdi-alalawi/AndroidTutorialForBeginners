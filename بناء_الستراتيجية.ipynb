{
  "nbformat": 4,
  "nbformat_minor": 0,
  "metadata": {
    "colab": {
      "private_outputs": true,
      "provenance": [],
      "authorship_tag": "ABX9TyPH7MoyOOpE9iq3yjVW7qFr",
      "include_colab_link": true
    },
    "kernelspec": {
      "name": "python3",
      "display_name": "Python 3"
    },
    "language_info": {
      "name": "python"
    }
  },
  "cells": [
    {
      "cell_type": "markdown",
      "metadata": {
        "id": "view-in-github",
        "colab_type": "text"
      },
      "source": [
        "<a href=\"https://colab.research.google.com/github/mahdi-alalawi/AndroidTutorialForBeginners/blob/master/%D8%A8%D9%86%D8%A7%D8%A1_%D8%A7%D9%84%D8%B3%D8%AA%D8%B1%D8%A7%D8%AA%D9%8A%D8%AC%D9%8A%D8%A9.ipynb\" target=\"_parent\"><img src=\"https://colab.research.google.com/assets/colab-badge.svg\" alt=\"Open In Colab\"/></a>"
      ]
    },
    {
      "cell_type": "code",
      "source": [
        "def build_strategy(data):\n",
        "    \"\"\"بناء الاستراتيجية الكاملة مع تحليل جميع المؤشرات.\"\"\"\n",
        "    try:\n",
        "        # حساب مناطق الطلب\n",
        "        احسب_وارسم_مناطق_طلبات_الشراء_والبيع(data)\n",
        "\n",
        "        # الحصول على مناطق الطلبات\n",
        "        مناطق_طلبات_الشراء = data['مناطق_طلبات_الشراء'].dropna().tolist()  # تأكد من وجود البيانات\n",
        "        مناطق_طلبات_البيع = data['مناطق_طلبات_البيع'].dropna().tolist()  # تأكد من وجود البيانات\n",
        "\n",
        "        # جلب الأخبار ذات التأثير العالي\n",
        "        news_times = fetch_high_impact_news()\n",
        "\n",
        "        data['target'] = data['close'].shift(-1)  # استخدام سعر الإغلاق في اليوم التالي كهدف\n",
        "        data.dropna(inplace=True)  # إزالة الصفوف التي تحتوي على قيم NaN\n",
        "\n",
        "        # حساب جميع المؤشرات\n",
        "        data = calculate_rsi(data)  # حساب مؤشر القوة النسبية\n",
        "        data = calculate_moving_average(data)  # حساب المتوسط المتحرك\n",
        "        data = calculate_moving_average20(data)\n",
        "        premium, discount = calculate_premium_discount(data)  # حساب العلاوة والخصم\n",
        "        data['Premium'] = premium\n",
        "        data['Discount'] = discount\n",
        "\n",
        "        data = calculate_bollinger_bands(data)\n",
        "        data = calculate_macd(data)\n",
        "        data = calculate_stochastic(data)  # حساب مؤشر Stochastic\n",
        "\n",
        "        # جلب آخر صف من البيانات\n",
        "        last_row = data.iloc[-1]\n",
        "\n",
        "        # حساب عدد الصفقات المفتوحة\n",
        "        open_positions_count = len(mt5.positions_get(symbol=\"XAUUSD\"))\n",
        "\n",
        "        # الشروط لفتح أوامر البيع\n",
        "        if open_positions_count < 5:\n",
        "            if (last_row['target'] < last_row['close'] and\n",
        "                last_row['Lower_Band'] < last_row['close'] < last_row['Middle_Band'] and\n",
        "                last_row['Signal_Line'] > last_row['MACD'] and\n",
        "                last_row['close'] < مناطق_طلبات_الشراء[-1][1] and\n",
        "                last_row['Premium'] < last_row['Discount'] and\n",
        "                50 > last_row['RSI'] > 30 and\n",
        "                last_row['%K'] < last_row['%D'] and\n",
        "                last_row['MA'] > last_row['MA20'] > last_row['close']):\n",
        "                place_order(\"XAUUSD\", \"sell\", volume=0.01)\n",
        "                print(\"تم فتح أمر بيع.\")\n",
        "\n",
        "            elif (last_row['target'] > last_row['close'] and\n",
        "                  last_row['Middle_Band'] < last_row['close'] < last_row['Upper_Band'] and\n",
        "                  last_row['Signal_Line'] < last_row['MACD'] and\n",
        "                  مناطق_طلبات_الشراء[-1][1] > last_row['close'] > مناطق_طلبات_البيع[-1][1] and\n",
        "                  last_row['Premium'] < last_row['Discount'] and\n",
        "                  50 > last_row['RSI'] > 30 and\n",
        "                  last_row['%K'] > last_row['%D'] and\n",
        "                  last_row['MA20'] < last_row['close'] < last_row['MA']):\n",
        "                place_order(\"XAUUSD\", \"sell\", volume=0.01)\n",
        "                print(\"تم فتح أمر بيع.\")\n",
        "\n",
        "        # الشروط لفتح أوامر الشراء\n",
        "        if open_positions_count < 5:\n",
        "            if (last_row['target'] > last_row['close'] and\n",
        "                last_row['Middle_Band'] < last_row['close'] < last_row['Upper_Band'] and\n",
        "                last_row['Signal_Line'] < last_row['MACD'] and\n",
        "                last_row['close'] > مناطق_طلبات_البيع[-1][1] and\n",
        "                last_row['Premium'] > last_row['Discount'] and\n",
        "                50 > last_row['RSI'] < 70 and\n",
        "                last_row['%K'] > last_row['%D'] and\n",
        "                last_row['MA'] < last_row['MA20'] < last_row['close']):\n",
        "                place_order(\"XAUUSD\", \"buy\", volume=0.01)\n",
        "                print(\"تم فتح أمر شراء.\")\n",
        "\n",
        "            elif (last_row['target'] < last_row['close'] and\n",
        "                  last_row['Lower_Band'] < last_row['close'] < last_row['Middle_Band'] and\n",
        "                  last_row['Signal_Line'] > last_row['MACD'] and\n",
        "                  مناطق_طلبات_الشراء[-1][1] > last_row['close'] < مناطق_طلبات_بيع[-1][1] and\n",
        "                  last_row['Premium'] > last_row['Discount'] and\n",
        "                  50 > last_row['RSI'] < 70 and\n",
        "                  last_row['%K'] < last_row['%D'] and\n",
        "                  last_row['MA'] < last_row['close'] < last_row['MA20']):\n",
        "                place_order(\"XAUUSD\", \"buy\", volume=0.01)\n",
        "                print(\"تم فتح أمر شراء.\")\n",
        "\n",
        "    except Exception as e:\n",
        "        print(f\"An error occurred while building the strategy: {e}\")\n"
      ],
      "metadata": {
        "id": "-Sdsp36Vgn5U"
      },
      "execution_count": null,
      "outputs": []
    }
  ]
}