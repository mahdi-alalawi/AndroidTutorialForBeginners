{
  "nbformat": 4,
  "nbformat_minor": 0,
  "metadata": {
    "colab": {
      "private_outputs": true,
      "provenance": [],
      "authorship_tag": "ABX9TyO4Ex1E4za/BHeZ6IiBoxha",
      "include_colab_link": true
    },
    "kernelspec": {
      "name": "python3",
      "display_name": "Python 3"
    },
    "language_info": {
      "name": "python"
    }
  },
  "cells": [
    {
      "cell_type": "markdown",
      "metadata": {
        "id": "view-in-github",
        "colab_type": "text"
      },
      "source": [
        "<a href=\"https://colab.research.google.com/github/mahdi-alalawi/AndroidTutorialForBeginners/blob/master/%D9%85%D8%A7%D9%83%D8%AF.ipynb\" target=\"_parent\"><img src=\"https://colab.research.google.com/assets/colab-badge.svg\" alt=\"Open In Colab\"/></a>"
      ]
    },
    {
      "cell_type": "code",
      "execution_count": null,
      "metadata": {
        "id": "kb1g0JcxD6Wo"
      },
      "outputs": [],
      "source": [
        "def calculate_macd(data, short_window=12, long_window=26, signal_window=9):\n",
        "    \"\"\"حساب مؤشر MACD\"\"\"\n",
        "    data['EMA_short'] = data['close'].ewm(span=short_window, adjust=False).mean()\n",
        "    data['EMA_long'] = data['close'].ewm(span=long_window, adjust=False).mean()\n",
        "    data['MACD'] = data['EMA_short'] - data['EMA_long']\n",
        "    data['Signal_Line'] = data['MACD'].ewm(span=signal_window, adjust=False).mean()\n",
        "    return data\n",
        "\n",
        "# استخدام الدالة\n",
        "data = calculate_macd(data)\n",
        "ذي"
      ]
    },
    {
      "cell_type": "code",
      "source": [
        "def calculate_bollinger_bands(data, window=20, num_std_dev=2):\n",
        "    \"\"\"حساب بولينجر باندز.\"\"\"\n",
        "    try:\n",
        "        # حساب المتوسط المتحرك\n",
        "        data['Middle_Band'] = data['close'].rolling(window=window).mean()\n",
        "\n",
        "        # حساب الانحراف المعياري\n",
        "        data['Std_Dev'] = data['close'].rolling(window=window).std()\n",
        "\n",
        "        # حساب الحد العلوي والحد السفلي\n",
        "        data['Upper_Band'] = data['Middle_Band'] + (data['Std_Dev'] * num_std_dev)\n",
        "        data['Lower_Band'] = data['Middle_Band'] - (data['Std_Dev'] * num_std_dev)\n",
        "\n",
        "        return data\n",
        "    except Exception as e:\n",
        "        print(f\"An error occurred while calculating Bollinger Bands: {e}\")\n",
        "        return data\n"
      ],
      "metadata": {
        "id": "_e13gtWsglUg"
      },
      "execution_count": null,
      "outputs": []
    },
    {
      "cell_type": "code",
      "source": [
        "data = get_and_clean_gold_prices()\n",
        "if data is not None:\n",
        "    data = calculate_bollinger_bands(data)  # إضافة هذه السطر لحساب بولينجر باندز\n",
        "    build_strategy(data)\n"
      ],
      "metadata": {
        "id": "l14WzIHCgr6B"
      },
      "execution_count": null,
      "outputs": []
    },
    {
      "cell_type": "code",
      "source": [
        "def calculate_stochastic(data, k_window=14, d_window=3):\n",
        "    \"\"\"حساب Stochastic Oscillator\"\"\"\n",
        "    low_min = data['low'].rolling(window=k_window).min()\n",
        "    high_max = data['high'].rolling(window=k_window).max()\n",
        "    data['%K'] = 100 * (data['close'] - low_min) / (high_max - low_min)\n",
        "    data['%D'] = data['%K'].rolling(window=d_window).mean()\n",
        "    return data\n"
      ],
      "metadata": {
        "id": "nDGFMIYQ2FHB"
      },
      "execution_count": null,
      "outputs": []
    },
    {
      "cell_type": "code",
      "source": [
        "def set_break_even(symbol):\n",
        "    \"\"\"تعيين وقف الخسارة إلى مستويات مختلفة بناءً على تقدم السعر نحو الهدف.\"\"\"\n",
        "    positions = mt5.positions_get(symbol=symbol)\n",
        "\n",
        "    if positions:\n",
        "        for position in positions:\n",
        "            entry_price = position.price_open\n",
        "            take_profit = position.tp\n",
        "\n",
        "            distance_to_tp = take_profit - entry_price\n",
        "\n",
        "            current_price = mt5.symbol_info_tick(symbol).bid\n",
        "\n",
        "            fifty_percent_target = entry_price + (0.36 * distance_to_tp)\n",
        "            seventy_five_percent_target = entry_price + (0.72 * distance_to_tp)\n",
        "            ninety_percent_target = entry_price + (0.84 * distance_to_tp)\n",
        "\n",
        "            if current_price >= fifty_percent_target:\n",
        "                new_stop_loss = entry_price + (0.12 * distance_to_tp)\n",
        "                update_stop_loss(position, new_stop_loss)\n",
        "\n",
        "            if current_price >= seventy_five_percent_target:\n",
        "                new_stop_loss = entry_price + (0.24 * distance_to_tp)\n",
        "                update_stop_loss(position, new_stop_loss)\n",
        "\n",
        "            if current_price >= ninety_percent_target:\n",
        "                new_stop_loss = entry_price + (0.48 * distance_to_tp)\n",
        "                update_stop_loss(position, new_stop_loss)\n"
      ],
      "metadata": {
        "id": "N9z-ocMXzwpO"
      },
      "execution_count": null,
      "outputs": []
    },
    {
      "source": [
        "def set_break_even(symbol):\n",
        "    \"\"\"تعيين وقف الخسارة إلى مستويات مختلفة بناءً على تقدم السعر نحو الهدف،\n",
        "    مع عدم تحريك الستوب لوز إذا كان الجديد أقل من القديم.\"\"\"\n",
        "    positions = mt5.positions_get(symbol=symbol)\n",
        "\n",
        "    if positions:\n",
        "        for position in positions:\n",
        "            entry_price = position.price_open\n",
        "            take_profit = position.tp\n",
        "            current_stop_loss = position.sl  # الحصول على قيمة الستوب لوز الحالية\n",
        "\n",
        "            distance_to_tp = take_profit - entry_price\n",
        "\n",
        "            current_price = mt5.symbol_info_tick(symbol).bid\n",
        "\n",
        "            fifty_percent_target = entry_price + (0.36 * distance_to_tp)\n",
        "            seventy_five_percent_target = entry_price + (0.72 * distance_to_tp)\n",
        "            ninety_percent_target = entry_price + (0.84 * distance_to_tp)\n",
        "\n",
        "            new_stop_loss = current_stop_loss  # افتراض أن الستوب لوز لن يتغير\n",
        "\n",
        "            if current_price >= fifty_percent_target:\n",
        "                new_stop_loss = entry_price + (0.12 * distance_to_tp)\n",
        "\n",
        "            if current_price >= seventy_five_percent_target:\n",
        "                new_stop_loss = entry_price + (0.24 * distance_to_tp)\n",
        "\n",
        "            if current_price >= ninety_percent_target:\n",
        "                new_stop_loss = entry_price + (0.48 * distance_to_tp)\n",
        "\n",
        "            # مقارنة الستوب لوز الجديد بالقديم\n",
        "            if new_stop_loss > current_stop_loss:\n",
        "                update_stop_loss(position, new_stop_loss)"
      ],
      "cell_type": "code",
      "metadata": {
        "id": "1D3s2MKL0mc5"
      },
      "execution_count": null,
      "outputs": []
    },
    {
      "cell_type": "code",
      "source": [
        "import pandas as pd\n",
        "\n",
        "# تعريف دالة حساب ADX\n",
        "def calculate_adx(data, period=14):\n",
        "    \"\"\"حساب مؤشر ADX.\"\"\"\n",
        "    data['High_Change'] = data['high'].diff()\n",
        "    data['Low_Change'] = data['low'].diff()\n",
        "\n",
        "    data['+DM'] = (data['High_Change'] > data['Low_Change']) & (data['High_Change'] > 0) * data['High_Change']\n",
        "    data['-DM'] = (data['Low_Change'] > data['High_Change']) & (data['Low_Change'] > 0) * data['Low_Change']\n",
        "\n",
        "    data['TR'] = data[['high', 'low', 'close']].max(axis=1) - data[['high', 'low', 'close']].min(axis=1)\n",
        "    data['ATR'] = data['TR'].rolling(window=period).mean()\n",
        "\n",
        "    data['+DI'] = 100 * (data['+DM'].rolling(window=period).sum() / data['ATR'])\n",
        "    data['-DI'] = 100 * (data['-DM'].rolling(window=period).sum() / data['ATR'])\n",
        "\n",
        "    data['DX'] = 100 * (abs(data['+DI'] - data['-DI']) / (data['+DI'] + data['-DI']))\n",
        "    data['ADX'] = data['DX'].rolling(window=period).mean()\n",
        "\n",
        "    return data[['ADX']]\n",
        "\n",
        "# استخدم الدالة مع بياناتك الخاصة\n",
        "# تأكد من أن لديك DataFrame بالبيانات المطلوبة (high, low, close)\n",
        "# adx_data = calculate_adx(your_dataframe)\n",
        "\n",
        "# طباعة النتائج\n",
        "# print(adx_data)\n"
      ],
      "metadata": {
        "id": "fnXaG4VsJHTx"
      },
      "execution_count": null,
      "outputs": []
    }
  ]
}