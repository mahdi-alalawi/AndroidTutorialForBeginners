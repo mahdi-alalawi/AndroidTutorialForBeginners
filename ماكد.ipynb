{
  "nbformat": 4,
  "nbformat_minor": 0,
  "metadata": {
    "colab": {
      "private_outputs": true,
      "provenance": [],
      "authorship_tag": "ABX9TyNF/zEmGUf6CW0uAWxoNpu5",
      "include_colab_link": true
    },
    "kernelspec": {
      "name": "python3",
      "display_name": "Python 3"
    },
    "language_info": {
      "name": "python"
    }
  },
  "cells": [
    {
      "cell_type": "markdown",
      "metadata": {
        "id": "view-in-github",
        "colab_type": "text"
      },
      "source": [
        "<a href=\"https://colab.research.google.com/github/mahdi-alalawi/AndroidTutorialForBeginners/blob/master/%D9%85%D8%A7%D9%83%D8%AF.ipynb\" target=\"_parent\"><img src=\"https://colab.research.google.com/assets/colab-badge.svg\" alt=\"Open In Colab\"/></a>"
      ]
    },
    {
      "cell_type": "code",
      "execution_count": null,
      "metadata": {
        "id": "kb1g0JcxD6Wo"
      },
      "outputs": [],
      "source": [
        "def calculate_macd(data, short_window=12, long_window=26, signal_window=9):\n",
        "    \"\"\"حساب مؤشر MACD\"\"\"\n",
        "    data['EMA_short'] = data['close'].ewm(span=short_window, adjust=False).mean()\n",
        "    data['EMA_long'] = data['close'].ewm(span=long_window, adjust=False).mean()\n",
        "    data['MACD'] = data['EMA_short'] - data['EMA_long']\n",
        "    data['Signal_Line'] = data['MACD'].ewm(span=signal_window, adjust=False).mean()\n",
        "    return data\n",
        "\n",
        "# استخدام الدالة\n",
        "data = calculate_macd(data)\n",
        "ذي"
      ]
    },
    {
      "cell_type": "code",
      "source": [
        "def calculate_bollinger_bands(data, window=20, num_std_dev=2):\n",
        "    \"\"\"حساب بولينجر باندز.\"\"\"\n",
        "    try:\n",
        "        # حساب المتوسط المتحرك\n",
        "        data['Middle_Band'] = data['close'].rolling(window=window).mean()\n",
        "\n",
        "        # حساب الانحراف المعياري\n",
        "        data['Std_Dev'] = data['close'].rolling(window=window).std()\n",
        "\n",
        "        # حساب الحد العلوي والحد السفلي\n",
        "        data['Upper_Band'] = data['Middle_Band'] + (data['Std_Dev'] * num_std_dev)\n",
        "        data['Lower_Band'] = data['Middle_Band'] - (data['Std_Dev'] * num_std_dev)\n",
        "\n",
        "        return data\n",
        "    except Exception as e:\n",
        "        print(f\"An error occurred while calculating Bollinger Bands: {e}\")\n",
        "        return data\n"
      ],
      "metadata": {
        "id": "_e13gtWsglUg"
      },
      "execution_count": null,
      "outputs": []
    },
    {
      "cell_type": "code",
      "source": [
        "data = get_and_clean_gold_prices()\n",
        "if data is not None:\n",
        "    data = calculate_bollinger_bands(data)  # إضافة هذه السطر لحساب بولينجر باندز\n",
        "    build_strategy(data)\n"
      ],
      "metadata": {
        "id": "l14WzIHCgr6B"
      },
      "execution_count": null,
      "outputs": []
    }
  ]
}