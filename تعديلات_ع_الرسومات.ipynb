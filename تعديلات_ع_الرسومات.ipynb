{
  "nbformat": 4,
  "nbformat_minor": 0,
  "metadata": {
    "colab": {
      "private_outputs": true,
      "provenance": [],
      "authorship_tag": "ABX9TyMDLbliv3Xbs1eLEkj73pFy",
      "include_colab_link": true
    },
    "kernelspec": {
      "name": "python3",
      "display_name": "Python 3"
    },
    "language_info": {
      "name": "python"
    }
  },
  "cells": [
    {
      "cell_type": "markdown",
      "metadata": {
        "id": "view-in-github",
        "colab_type": "text"
      },
      "source": [
        "<a href=\"https://colab.research.google.com/github/mahdi-alalawi/AndroidTutorialForBeginners/blob/master/%D8%AA%D8%B9%D8%AF%D9%8A%D9%84%D8%A7%D8%AA_%D8%B9_%D8%A7%D9%84%D8%B1%D8%B3%D9%88%D9%85%D8%A7%D8%AA.ipynb\" target=\"_parent\"><img src=\"https://colab.research.google.com/assets/colab-badge.svg\" alt=\"Open In Colab\"/></a>"
      ]
    },
    {
      "cell_type": "code",
      "execution_count": null,
      "metadata": {
        "id": "-HfDyYJ6k8NC"
      },
      "outputs": [],
      "source": [
        "import matplotlib.pyplot as plt\n",
        "\n",
        "def plot_bollinger_bands(data, window=20, num_std_dev=2):\n",
        "    \"\"\"رسم بولنجر باندز على مخطط بياني.\"\"\"\n",
        "    # حساب المتوسط المتحرك والانحراف المعياري\n",
        "    data['Middle_Band'] = data['close'].rolling(window=window).mean()\n",
        "    data['Std_Dev'] = data['close'].rolling(window=window).std()\n",
        "\n",
        "    # حساب الحد العلوي والحد السفلي\n",
        "    data['Upper_Band'] = data['Middle_Band'] + (data['Std_Dev'] * num_std_dev)\n",
        "    data['Lower_Band'] = data['Middle_Band'] - (data['Std_Dev'] * num_std_dev)\n",
        "\n",
        "    # طباعة القيم\n",
        "    print(\"Middle Band:\", data['Middle_Band'].iloc[-1])\n",
        "    print(\"Upper Band:\", data['Upper_Band'].iloc[-1])\n",
        "    print(\"Lower Band:\", data['Lower_Band'].iloc[-1])\n",
        "\n",
        "    # رسم المخطط\n",
        "    plt.figure(figsize=(12, 6))\n",
        "    plt.plot(data['close'], label='Close Price', color='blue')\n",
        "    plt.plot(data['Middle_Band'], label='Middle Band', color='orange')\n",
        "    plt.plot(data['Upper_Band'], label='Upper Band', color='green')\n",
        "    plt.plot(data['Lower_Band'], label='Lower Band', color='red')\n",
        "    plt.fill_between(data.index, data['Upper_Band'], data['Lower_Band'], color='lightgray', alpha=0.5)\n",
        "    plt.title('Bollinger Bands')\n",
        "    plt.xlabel('Date')\n",
        "    plt.ylabel('Price')\n",
        "    plt.legend()\n",
        "    plt.show()\n",
        "\n",
        "# مثال على كيفية استخدام الدالة\n",
        "# تأكد من أن لديك بيانات في DataFrame باسم `data` تحتوي على عمود 'close'\n",
        "# plot_bollinger_bands(data)\n"
      ]
    },
    {
      "cell_type": "code",
      "source": [
        "import matplotlib.pyplot as plt\n",
        "\n",
        "def plot_premium_discount(data):\n",
        "    \"\"\"رسم Premium وDiscount على مخطط بياني.\"\"\"\n",
        "    # تأكد من أن البيانات تحتوي على الأعمدة المطلوبة\n",
        "    data['Premium'] = data['close'] - data['low'].rolling(window=20).min()\n",
        "    data['Discount'] = data['high'].rolling(window=20).max() - data['close']\n",
        "\n",
        "    # طباعة القيم الأخيرة\n",
        "    print(\"Last Premium Value:\", data['Premium'].iloc[-1])\n",
        "    print(\"Last Discount Value:\", data['Discount'].iloc[-1])\n",
        "\n",
        "    # رسم المخطط\n",
        "    plt.figure(figsize=(12, 6))\n",
        "    plt.plot(data.index, data['Premium'], label='Premium', color='blue')\n",
        "    plt.plot(data.index, data['Discount'], label='Discount', color='red')\n",
        "    plt.fill_between(data.index, data['Premium'], color='lightblue', alpha=0.5)\n",
        "    plt.fill_between(data.index, data['Discount'], color='lightcoral', alpha=0.5)\n",
        "    plt.title('Premium and Discount Bands')\n",
        "    plt.xlabel('Date')\n",
        "    plt.ylabel('Value')\n",
        "    plt.legend()\n",
        "    plt.show()\n",
        "\n",
        "# مثال على كيفية استخدام الدالة\n",
        "# تأكد من أن لديك بيانات في DataFrame باسم `data` تحتوي على الأعمدة 'close', 'low', 'high'\n",
        "# plot_premium_discount(data)\n"
      ],
      "metadata": {
        "id": "r4d_S76_4lXF"
      },
      "execution_count": null,
      "outputs": []
    },
    {
      "cell_type": "code",
      "source": [
        "import matplotlib.pyplot as plt\n",
        "\n",
        "def plot_moving_averages(data, short_window=20, long_window=50):\n",
        "    \"\"\"رسم المتوسطات المتحركة (موفنك أفرج) على مخطط بياني.\"\"\"\n",
        "    # حساب المتوسطات المتحركة\n",
        "    data['MA20'] = data['close'].rolling(window=short_window).mean()\n",
        "    data['MA50'] = data['close'].rolling(window=long_window).mean()\n",
        "\n",
        "    # طباعة القيم الأخيرة\n",
        "    print(\"Last MA20 Value:\", data['MA20'].iloc[-1])\n",
        "    print(\"Last MA50 Value:\", data['MA50'].iloc[-1])\n",
        "\n",
        "    # رسم المخطط\n",
        "    plt.figure(figsize=(12, 6))\n",
        "    plt.plot(data.index, data['close'], label='Close Price', color='blue', alpha=0.5)\n",
        "    plt.plot(data.index, data['MA20'], label='MA 20', color='orange')\n",
        "    plt.plot(data.index, data['MA50'], label='MA 50', color='green')\n",
        "    plt.title('Moving Averages (MA20 and MA50)')\n",
        "    plt.xlabel('Date')\n",
        "    plt.ylabel('Price')\n",
        "    plt.legend()\n",
        "    plt.show()\n",
        "\n",
        "# مثال على كيفية استخدام الدالة\n",
        "# تأكد من أن لديك بيانات في DataFrame باسم `data` تحتوي على عمود 'close'\n",
        "# plot_moving_averages(data)\n"
      ],
      "metadata": {
        "id": "UvzDwI4mtKbb"
      },
      "execution_count": null,
      "outputs": []
    }
  ]
}