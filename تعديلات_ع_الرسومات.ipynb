{
  "nbformat": 4,
  "nbformat_minor": 0,
  "metadata": {
    "colab": {
      "private_outputs": true,
      "provenance": [],
      "authorship_tag": "ABX9TyOmOHMlgBAwonn4wKi0/Rly",
      "include_colab_link": true
    },
    "kernelspec": {
      "name": "python3",
      "display_name": "Python 3"
    },
    "language_info": {
      "name": "python"
    }
  },
  "cells": [
    {
      "cell_type": "markdown",
      "metadata": {
        "id": "view-in-github",
        "colab_type": "text"
      },
      "source": [
        "<a href=\"https://colab.research.google.com/github/mahdi-alalawi/AndroidTutorialForBeginners/blob/master/%D8%AA%D8%B9%D8%AF%D9%8A%D9%84%D8%A7%D8%AA_%D8%B9_%D8%A7%D9%84%D8%B1%D8%B3%D9%88%D9%85%D8%A7%D8%AA.ipynb\" target=\"_parent\"><img src=\"https://colab.research.google.com/assets/colab-badge.svg\" alt=\"Open In Colab\"/></a>"
      ]
    },
    {
      "cell_type": "code",
      "execution_count": null,
      "metadata": {
        "id": "-HfDyYJ6k8NC"
      },
      "outputs": [],
      "source": [
        "import matplotlib.pyplot as plt\n",
        "\n",
        "def plot_bollinger_bands(data, window=20, num_std_dev=2):\n",
        "    \"\"\"رسم بولنجر باندز على مخطط بياني.\"\"\"\n",
        "    # حساب المتوسط المتحرك والانحراف المعياري\n",
        "    data['Middle_Band'] = data['close'].rolling(window=window).mean()\n",
        "    data['Std_Dev'] = data['close'].rolling(window=window).std()\n",
        "\n",
        "    # حساب الحد العلوي والحد السفلي\n",
        "    data['Upper_Band'] = data['Middle_Band'] + (data['Std_Dev'] * num_std_dev)\n",
        "    data['Lower_Band'] = data['Middle_Band'] - (data['Std_Dev'] * num_std_dev)\n",
        "\n",
        "    # طباعة القيم\n",
        "    print(\"Middle Band:\", data['Middle_Band'].iloc[-1])\n",
        "    print(\"Upper Band:\", data['Upper_Band'].iloc[-1])\n",
        "    print(\"Lower Band:\", data['Lower_Band'].iloc[-1])\n",
        "\n",
        "    # رسم المخطط\n",
        "    plt.figure(figsize=(12, 6))\n",
        "    plt.plot(data['close'], label='Close Price', color='blue')\n",
        "    plt.plot(data['Middle_Band'], label='Middle Band', color='orange')\n",
        "    plt.plot(data['Upper_Band'], label='Upper Band', color='green')\n",
        "    plt.plot(data['Lower_Band'], label='Lower Band', color='red')\n",
        "    plt.fill_between(data.index, data['Upper_Band'], data['Lower_Band'], color='lightgray', alpha=0.5)\n",
        "    plt.title('Bollinger Bands')\n",
        "    plt.xlabel('Date')\n",
        "    plt.ylabel('Price')\n",
        "    plt.legend()\n",
        "    plt.show()\n",
        "\n",
        "# مثال على كيفية استخدام الدالة\n",
        "# تأكد من أن لديك بيانات في DataFrame باسم `data` تحتوي على عمود 'close'\n",
        "# plot_bollinger_bands(data)\n"
      ]
    },
    {
      "cell_type": "code",
      "source": [
        "import matplotlib.pyplot as plt\n",
        "\n",
        "def plot_premium_discount(data):\n",
        "    \"\"\"رسم Premium وDiscount على مخطط بياني.\"\"\"\n",
        "    # تأكد من أن البيانات تحتوي على الأعمدة المطلوبة\n",
        "    data['Premium'] = data['close'] - data['low'].rolling(window=20).min()\n",
        "    data['Discount'] = data['high'].rolling(window=20).max() - data['close']\n",
        "\n",
        "    # طباعة القيم الأخيرة\n",
        "    print(\"Last Premium Value:\", data['Premium'].iloc[-1])\n",
        "    print(\"Last Discount Value:\", data['Discount'].iloc[-1])\n",
        "\n",
        "    # رسم المخطط\n",
        "    plt.figure(figsize=(12, 6))\n",
        "    plt.plot(data.index, data['Premium'], label='Premium', color='blue')\n",
        "    plt.plot(data.index, data['Discount'], label='Discount', color='red')\n",
        "    plt.fill_between(data.index, data['Premium'], color='lightblue', alpha=0.5)\n",
        "    plt.fill_between(data.index, data['Discount'], color='lightcoral', alpha=0.5)\n",
        "    plt.title('Premium and Discount Bands')\n",
        "    plt.xlabel('Date')\n",
        "    plt.ylabel('Value')\n",
        "    plt.legend()\n",
        "    plt.show()\n",
        "\n",
        "# مثال على كيفية استخدام الدالة\n",
        "# تأكد من أن لديك بيانات في DataFrame باسم `data` تحتوي على الأعمدة 'close', 'low', 'high'\n",
        "# plot_premium_discount(data)\n"
      ],
      "metadata": {
        "id": "r4d_S76_4lXF"
      },
      "execution_count": null,
      "outputs": []
    },
    {
      "cell_type": "code",
      "source": [
        "def calculate_macd(data, short_window=12, long_window=26, signal_window=9):\n",
        "    \"\"\"حساب مؤشر MACD\"\"\"\n",
        "    data['EMA_short'] = data['close'].ewm(span=short_window, adjust=False).mean()\n",
        "    data['EMA_long'] = data['close'].ewm(span=long_window, adjust=False).mean()\n",
        "    data['MACD'] = data['EMA_short'] - data['EMA_long']\n",
        "    data['Signal_Line'] = data['MACD'].ewm(span=signal_window, adjust=False).mean()\n",
        "    return data\n",
        "\n",
        "def plot_macd(data):\n",
        "    \"\"\"رسم مؤشر MACD.\"\"\"\n",
        "    plt.figure(figsize=(12, 6))\n",
        "    plt.plot(data.index, data['MACD'], label='MACD', color='blue')\n",
        "    plt.plot(data.index, data['Signal_Line'], label='Signal Line', color='orange')\n",
        "    plt.axhline(0, color='black', lw=0.5, ls='--')\n",
        "    plt.title('MACD Indicator')\n",
        "    plt.xlabel('Date')\n",
        "    plt.ylabel('MACD Value')\n",
        "    plt.legend()\n",
        "    plt.grid()\n",
        "    plt.show()\n",
        "\n",
        "# في دالة build_strategy\n",
        "data = calculate_macd(data)\n",
        "plot_macd(data)\n"
      ],
      "metadata": {
        "id": "VuzyQI1B7Nwp"
      },
      "execution_count": null,
      "outputs": []
    },
    {
      "cell_type": "code",
      "source": [
        "import matplotlib.pyplot as plt\n",
        "\n",
        "def calculate_order_blocks(data):\n",
        "    \"\"\"حساب مناطق Order Blocks وإعادتها للرسم.\"\"\"\n",
        "    bullish_blocks = []\n",
        "    bearish_blocks = []\n",
        "    try:\n",
        "        for i in range(1, len(data)):\n",
        "            if data['close'].iloc[i] > data['close'].iloc[i - 1] and data['close'].iloc[i - 1] < data['close'].iloc[i - 2]:\n",
        "                bullish_blocks.append((data.index[i - 1], data['close'].iloc[i - 1]))\n",
        "            elif data['close'].iloc[i] < data['close'].iloc[i - 1] and data['close'].iloc[i - 1] > data['close'].iloc[i - 2]:\n",
        "                bearish_blocks.append((data.index[i - 1], data['close'].iloc[i - 1]))\n",
        "    except Exception as e:\n",
        "        print(f\"An error occurred while calculating order blocks: {e}\")\n",
        "\n",
        "    return bullish_blocks, bearish_blocks\n"
      ],
      "metadata": {
        "id": "94K2F3MPC3Wo"
      },
      "execution_count": null,
      "outputs": []
    },
    {
      "cell_type": "code",
      "source": [
        "def build_strategy(data):\n",
        "    \"\"\"بناء الاستراتيجية الكاملة مع تحليل جميع المؤشرات.\"\"\"\n",
        "    try:\n",
        "        # إعداد البيانات\n",
        "        data['target'] = data['close'].shift(-1)  # استخدام سعر الإغلاق في اليوم التالي كهدف\n",
        "        data.dropna(inplace=True)  # إزالة الصفوف التي تحتوي على قيم NaN\n",
        "\n",
        "        # حساب جميع المؤشرات\n",
        "        # (تأكد من إضافة جميع العمليات السابقة هنا)\n",
        "\n",
        "        # حساب مناطق العرض والطلب\n",
        "        supply_zones, demand_zones = calculate_supply_demand(data)\n",
        "        support, resistance = calculate_support_resistance(data)\n",
        "\n",
        "        # حساب مناطق Order Blocks\n",
        "        bullish_blocks, bearish_blocks = calculate_order_blocks(data)\n",
        "\n",
        "        # رسم البيانات\n",
        "        plt.figure(figsize=(14, 7))\n",
        "        plt.plot(data['close'], label='Close Price', color='blue')\n",
        "\n",
        "        # رسم مناطق طلبات الشراء\n",
        "        for block in bullish_blocks:\n",
        "            plt.axhline(y=block[1], color='green', linestyle='--', label='Bullish Block' if block == bullish_blocks[0] else \"\")\n",
        "\n",
        "        # رسم مناطق طلبات البيع\n",
        "        for block in bearish_blocks:\n",
        "            plt.axhline(y=block[1], color='red', linestyle='--', label='Bearish Block' if block == bearish_blocks[0] else \"\")\n",
        "\n",
        "        plt.title('Order Blocks')\n",
        "        plt.xlabel('Time')\n",
        "        plt.ylabel('Price')\n",
        "        plt.legend()\n",
        "        plt.show()\n",
        "\n",
        "        # (استمر في تنفيذ باقي الشروط لفتح الأوامر)\n",
        "\n",
        "    except Exception as e:\n",
        "        print(f\"An error occurred while building the strategy: {e}\")\n"
      ],
      "metadata": {
        "id": "PyTstqRxDBNW"
      },
      "execution_count": null,
      "outputs": []
    },
    {
      "cell_type": "code",
      "source": [
        "def calculate_order_blocks(data):\n",
        "    \"\"\"حساب مناطق Order Blocks\"\"\"\n",
        "    bullish_blocks = []\n",
        "    bearish_blocks = []\n",
        "    try:\n",
        "        for i in range(1, len(data)):\n",
        "            if data['close'].iloc[i] > data['close'].iloc[i - 1] and data['close'].iloc[i - 1] < data['close'].iloc[i - 2]:\n",
        "                bullish_blocks.append((data.index[i - 1], data['close'].iloc[i - 1]))\n",
        "            elif data['close'].iloc[i] < data['close'].iloc[i - 1] and data['close'].iloc[i - 1] > data['close'].iloc[i - 2]:\n",
        "                bearish_blocks.append((data.index[i - 1], data['close'].iloc[i - 1]))\n",
        "\n",
        "        # طباعة مناطق الطلبات\n",
        "        print(\"Bullish Order Blocks:\")\n",
        "        for block in bullish_blocks:\n",
        "            print(f\"Time: {block[0]}, Price: {block[1]}\")\n",
        "\n",
        "        print(\"Bearish Order Blocks:\")\n",
        "        for block in bearish_blocks:\n",
        "            print(f\"Time: {block[0]}, Price: {block[1]}\")\n",
        "\n",
        "    except Exception as e:\n",
        "        print(f\"An error occurred while calculating order blocks: {e}\")\n",
        "\n",
        "    return bullish_blocks, bearish_blocks\n"
      ],
      "metadata": {
        "id": "y-wGo-dCWzyc"
      },
      "execution_count": null,
      "outputs": []
    },
    {
      "cell_type": "code",
      "source": [
        "def calculate_order_blocks(data):\n",
        "    \"\"\"حساب مناطق Order Blocks\"\"\"\n",
        "    bullish_blocks = []\n",
        "    bearish_blocks = []\n",
        "    try:\n",
        "        for i in range(1, len(data)):\n",
        "            if data['close'].iloc[i] > data['close'].iloc[i - 1] and data['close'].iloc[i - 1] < data['close'].iloc[i - 2]:\n",
        "                bullish_blocks.append((data.index[i - 1], data['close'].iloc[i - 1]))\n",
        "            elif data['close'].iloc[i] < data['close'].iloc[i - 1] and data['close'].iloc[i - 1] > data['close'].iloc[i - 2]:\n",
        "                bearish_blocks.append((data.index[i - 1], data['close'].iloc[i - 1]))\n",
        "\n",
        "        # طباعة آخر نقطتين من مناطق طلبات الشراء والبيع\n",
        "        if bullish_blocks:\n",
        "            print(\"آخر نقطتين من مناطق طلبات الشراء:\")\n",
        "            print(bullish_blocks[-2:])  # طباعة آخر نقطتين\n",
        "        else:\n",
        "            print(\"لا توجد مناطق طلبات شراء.\")\n",
        "\n",
        "        if bearish_blocks:\n",
        "            print(\"آخر نقطتين من مناطق طلبات البيع:\")\n",
        "            print(bearish_blocks[-2:])  # طباعة آخر نقطتين\n",
        "        else:\n",
        "            print(\"لا توجد مناطق طلبات بيع.\")\n",
        "\n",
        "    except Exception as e:\n",
        "        print(f\"An error occurred while calculating order blocks: {e}\")\n",
        "\n",
        "    return bullish_blocks, bearish_blocks\n"
      ],
      "metadata": {
        "id": "zhWjhJvBZvI3"
      },
      "execution_count": null,
      "outputs": []
    },
    {
      "cell_type": "code",
      "source": [
        "def calculate_order_blocks(data):\n",
        "    \"\"\"حساب مناطق Order Blocks لأحدث نقطة.\"\"\"\n",
        "    bullish_blocks = []\n",
        "    bearish_blocks = []\n",
        "\n",
        "    try:\n",
        "        # تحقق من وجود بيانات كافية\n",
        "        if len(data) < 3:\n",
        "            print(\"لا توجد بيانات كافية لحساب مناطق الطلبات.\")\n",
        "            return bullish_blocks, bearish_blocks\n",
        "\n",
        "        # تحليل آخر ثلاث نقاط فقط\n",
        "        for i in range(len(data) - 2, len(data)):\n",
        "            if data['close'].iloc[i] < data['close'].iloc[i - 1] and data['close'].iloc[i - 1] > data['close'].iloc[i - 2]:\n",
        "                bullish_blocks.append((data.index[i - 1], data['close'].iloc[i - 1]))\n",
        "            elif data['close'].iloc[i] > data['close'].iloc[i - 1] and data['close'].iloc[i - 1] < data['close'].iloc[i - 2]:\n",
        "                bearish_blocks.append((data.index[i - 1], data['close'].iloc[i - 1]))\n",
        "\n",
        "        # طباعة المناطق المحسوبة\n",
        "        print(f\"مناطق طلبات الشراء (Bullish Blocks): {bullish_blocks}\")\n",
        "        print(f\"مناطق طلبات البيع (Bearish Blocks): {bearish_blocks}\")\n",
        "\n",
        "    except Exception as e:\n",
        "        print(f\"حدث خطأ أثناء حساب مناطق الطلبات: {e}\")\n",
        "\n",
        "    return bullish_blocks, bearish_blocks\n"
      ],
      "metadata": {
        "id": "0_OaZrMxdoK_"
      },
      "execution_count": null,
      "outputs": []
    }
  ]
}