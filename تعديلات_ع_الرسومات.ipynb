{
  "nbformat": 4,
  "nbformat_minor": 0,
  "metadata": {
    "colab": {
      "private_outputs": true,
      "provenance": [],
      "authorship_tag": "ABX9TyP+aKpYlkZSzwNLN1S+voZ5",
      "include_colab_link": true
    },
    "kernelspec": {
      "name": "python3",
      "display_name": "Python 3"
    },
    "language_info": {
      "name": "python"
    }
  },
  "cells": [
    {
      "cell_type": "markdown",
      "metadata": {
        "id": "view-in-github",
        "colab_type": "text"
      },
      "source": [
        "<a href=\"https://colab.research.google.com/github/mahdi-alalawi/AndroidTutorialForBeginners/blob/master/%D8%AA%D8%B9%D8%AF%D9%8A%D9%84%D8%A7%D8%AA_%D8%B9_%D8%A7%D9%84%D8%B1%D8%B3%D9%88%D9%85%D8%A7%D8%AA.ipynb\" target=\"_parent\"><img src=\"https://colab.research.google.com/assets/colab-badge.svg\" alt=\"Open In Colab\"/></a>"
      ]
    },
    {
      "cell_type": "code",
      "execution_count": null,
      "metadata": {
        "id": "-HfDyYJ6k8NC"
      },
      "outputs": [],
      "source": [
        "import matplotlib.pyplot as plt\n",
        "\n",
        "def plot_bollinger_bands(data, window=20, num_std_dev=2):\n",
        "    \"\"\"رسم بولنجر باندز على مخطط بياني.\"\"\"\n",
        "    # حساب المتوسط المتحرك والانحراف المعياري\n",
        "    data['Middle_Band'] = data['close'].rolling(window=window).mean()\n",
        "    data['Std_Dev'] = data['close'].rolling(window=window).std()\n",
        "\n",
        "    # حساب الحد العلوي والحد السفلي\n",
        "    data['Upper_Band'] = data['Middle_Band'] + (data['Std_Dev'] * num_std_dev)\n",
        "    data['Lower_Band'] = data['Middle_Band'] - (data['Std_Dev'] * num_std_dev)\n",
        "\n",
        "    # طباعة القيم\n",
        "    print(\"Middle Band:\", data['Middle_Band'].iloc[-1])\n",
        "    print(\"Upper Band:\", data['Upper_Band'].iloc[-1])\n",
        "    print(\"Lower Band:\", data['Lower_Band'].iloc[-1])\n",
        "\n",
        "    # رسم المخطط\n",
        "    plt.figure(figsize=(12, 6))\n",
        "    plt.plot(data['close'], label='Close Price', color='blue')\n",
        "    plt.plot(data['Middle_Band'], label='Middle Band', color='orange')\n",
        "    plt.plot(data['Upper_Band'], label='Upper Band', color='green')\n",
        "    plt.plot(data['Lower_Band'], label='Lower Band', color='red')\n",
        "    plt.fill_between(data.index, data['Upper_Band'], data['Lower_Band'], color='lightgray', alpha=0.5)\n",
        "    plt.title('Bollinger Bands')\n",
        "    plt.xlabel('Date')\n",
        "    plt.ylabel('Price')\n",
        "    plt.legend()\n",
        "    plt.show()\n",
        "\n",
        "# مثال على كيفية استخدام الدالة\n",
        "# تأكد من أن لديك بيانات في DataFrame باسم `data` تحتوي على عمود 'close'\n",
        "# plot_bollinger_bands(data)\n"
      ]
    },
    {
      "cell_type": "code",
      "source": [
        "import matplotlib.pyplot as plt\n",
        "\n",
        "def plot_premium_discount(data):\n",
        "    \"\"\"رسم Premium وDiscount على مخطط بياني.\"\"\"\n",
        "    # تأكد من أن البيانات تحتوي على الأعمدة المطلوبة\n",
        "    data['Premium'] = data['close'] - data['low'].rolling(window=20).min()\n",
        "    data['Discount'] = data['high'].rolling(window=20).max() - data['close']\n",
        "\n",
        "    # طباعة القيم الأخيرة\n",
        "    print(\"Last Premium Value:\", data['Premium'].iloc[-1])\n",
        "    print(\"Last Discount Value:\", data['Discount'].iloc[-1])\n",
        "\n",
        "    # رسم المخطط\n",
        "    plt.figure(figsize=(12, 6))\n",
        "    plt.plot(data.index, data['Premium'], label='Premium', color='blue')\n",
        "    plt.plot(data.index, data['Discount'], label='Discount', color='red')\n",
        "    plt.fill_between(data.index, data['Premium'], color='lightblue', alpha=0.5)\n",
        "    plt.fill_between(data.index, data['Discount'], color='lightcoral', alpha=0.5)\n",
        "    plt.title('Premium and Discount Bands')\n",
        "    plt.xlabel('Date')\n",
        "    plt.ylabel('Value')\n",
        "    plt.legend()\n",
        "    plt.show()\n",
        "\n",
        "# مثال على كيفية استخدام الدالة\n",
        "# تأكد من أن لديك بيانات في DataFrame باسم `data` تحتوي على الأعمدة 'close', 'low', 'high'\n",
        "# plot_premium_discount(data)\n"
      ],
      "metadata": {
        "id": "r4d_S76_4lXF"
      },
      "execution_count": null,
      "outputs": []
    },
    {
      "cell_type": "code",
      "source": [
        "import matplotlib.pyplot as plt\n",
        "\n",
        "def plot_fibonacci(data, direction='up'):\n",
        "    \"\"\"رسم مستويات فيبوناتشي حسب الاتجاه (صعودي أو هبوطي).\"\"\"\n",
        "    # تأكد من أن البيانات تحتوي على الأعمدة المطلوبة\n",
        "    if direction == 'up':\n",
        "        # تحديد القيم العليا والدنيا\n",
        "        high = data['high'].max()\n",
        "        low = data['low'].min()\n",
        "    elif direction == 'down':\n",
        "        high = data['high'].max()\n",
        "        low = data['low'].min()\n",
        "    else:\n",
        "        raise ValueError(\"Direction must be 'up' or 'down'\")\n",
        "\n",
        "    # حساب مستويات فيبوناتشي\n",
        "    diff = high - low\n",
        "    level_1 = high - diff * 0.236\n",
        "    level_2 = high - diff * 0.382\n",
        "    level_3 = high - diff * 0.618\n",
        "    level_4 = low\n",
        "\n",
        "    # طباعة القيم\n",
        "    print(\"Fibonacci Levels:\")\n",
        "    print(\"Level 1 (23.6%):\", level_1)\n",
        "    print(\"Level 2 (38.2%):\", level_2)\n",
        "    print(\"Level 3 (61.8%):\", level_3)\n",
        "    print(\"Level 4 (0%):\", level_4)\n",
        "\n",
        "    # رسم المخطط\n",
        "    plt.figure(figsize=(12, 6))\n",
        "    plt.plot(data['close'], label='Close Price', color='blue')\n",
        "    plt.axhline(y=level_1, color='orange', linestyle='--', label='Level 1 (23.6%)')\n",
        "    plt.axhline(y=level_2, color='green', linestyle='--', label='Level 2 (38.2%)')\n",
        "    plt.axhline(y=level_3, color='red', linestyle='--', label='Level 3 (61.8%)')\n",
        "    plt.axhline(y=level_4, color='purple', linestyle='--', label='Level 4 (0%)')\n",
        "\n",
        "    plt.title('Fibonacci Levels')\n",
        "    plt.xlabel('Date')\n",
        "    plt.ylabel('Price')\n",
        "    plt.legend()\n",
        "    plt.show()\n",
        "\n",
        "# مثال على كيفية استخدام الدالة\n",
        "# تأكد من أن لديك بيانات في DataFrame باسم `data` تحتوي على الأعمدة 'high', 'low', 'close'\n",
        "# plot_fibonacci(data, direction='up')  # لاستخدام الاتجاه الصعودي\n",
        "# plot_fibonacci(data, direction='down')  # لاستخدام الاتجاه الهبوطي\n"
      ],
      "metadata": {
        "id": "YFzF7ampzpbF"
      },
      "execution_count": null,
      "outputs": []
    }
  ]
}