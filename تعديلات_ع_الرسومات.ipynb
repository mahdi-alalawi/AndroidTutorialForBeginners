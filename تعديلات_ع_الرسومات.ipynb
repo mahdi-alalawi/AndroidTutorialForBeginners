{
  "nbformat": 4,
  "nbformat_minor": 0,
  "metadata": {
    "colab": {
      "private_outputs": true,
      "provenance": [],
      "authorship_tag": "ABX9TyNK2PqGb5bH1JRo9byAGsnJ",
      "include_colab_link": true
    },
    "kernelspec": {
      "name": "python3",
      "display_name": "Python 3"
    },
    "language_info": {
      "name": "python"
    }
  },
  "cells": [
    {
      "cell_type": "markdown",
      "metadata": {
        "id": "view-in-github",
        "colab_type": "text"
      },
      "source": [
        "<a href=\"https://colab.research.google.com/github/mahdi-alalawi/AndroidTutorialForBeginners/blob/master/%D8%AA%D8%B9%D8%AF%D9%8A%D9%84%D8%A7%D8%AA_%D8%B9_%D8%A7%D9%84%D8%B1%D8%B3%D9%88%D9%85%D8%A7%D8%AA.ipynb\" target=\"_parent\"><img src=\"https://colab.research.google.com/assets/colab-badge.svg\" alt=\"Open In Colab\"/></a>"
      ]
    },
    {
      "cell_type": "code",
      "execution_count": null,
      "metadata": {
        "id": "-HfDyYJ6k8NC"
      },
      "outputs": [],
      "source": [
        "import matplotlib.pyplot as plt\n",
        "\n",
        "def plot_bollinger_bands(data, window=20, num_std_dev=2):\n",
        "    \"\"\"رسم بولنجر باندز على مخطط بياني.\"\"\"\n",
        "    # حساب المتوسط المتحرك والانحراف المعياري\n",
        "    data['Middle_Band'] = data['close'].rolling(window=window).mean()\n",
        "    data['Std_Dev'] = data['close'].rolling(window=window).std()\n",
        "\n",
        "    # حساب الحد العلوي والحد السفلي\n",
        "    data['Upper_Band'] = data['Middle_Band'] + (data['Std_Dev'] * num_std_dev)\n",
        "    data['Lower_Band'] = data['Middle_Band'] - (data['Std_Dev'] * num_std_dev)\n",
        "\n",
        "    # طباعة القيم\n",
        "    print(\"Middle Band:\", data['Middle_Band'].iloc[-1])\n",
        "    print(\"Upper Band:\", data['Upper_Band'].iloc[-1])\n",
        "    print(\"Lower Band:\", data['Lower_Band'].iloc[-1])\n",
        "\n",
        "    # رسم المخطط\n",
        "    plt.figure(figsize=(12, 6))\n",
        "    plt.plot(data['close'], label='Close Price', color='blue')\n",
        "    plt.plot(data['Middle_Band'], label='Middle Band', color='orange')\n",
        "    plt.plot(data['Upper_Band'], label='Upper Band', color='green')\n",
        "    plt.plot(data['Lower_Band'], label='Lower Band', color='red')\n",
        "    plt.fill_between(data.index, data['Upper_Band'], data['Lower_Band'], color='lightgray', alpha=0.5)\n",
        "    plt.title('Bollinger Bands')\n",
        "    plt.xlabel('Date')\n",
        "    plt.ylabel('Price')\n",
        "    plt.legend()\n",
        "    plt.show()\n",
        "\n",
        "# مثال على كيفية استخدام الدالة\n",
        "# تأكد من أن لديك بيانات في DataFrame باسم `data` تحتوي على عمود 'close'\n",
        "# plot_bollinger_bands(data)\n"
      ]
    },
    {
      "cell_type": "code",
      "source": [
        "import matplotlib.pyplot as plt\n",
        "\n",
        "def plot_macd(data, short_window=12, long_window=26, signal_window=9):\n",
        "    \"\"\"رسم مؤشر MACD على مخطط بياني.\"\"\"\n",
        "    # حساب المتوسطات المتحركة الأسية\n",
        "    data['EMA_short'] = data['close'].ewm(span=short_window, adjust=False).mean()\n",
        "    data['EMA_long'] = data['close'].ewm(span=long_window, adjust=False).mean()\n",
        "\n",
        "    # حساب MACD وخط الإشارة\n",
        "    data['MACD'] = data['EMA_short'] - data['EMA_long']\n",
        "    data['Signal_Line'] = data['MACD'].ewm(span=signal_window, adjust=False).mean()\n",
        "\n",
        "    # طباعة القيم\n",
        "    print(\"MACD:\", data['MACD'].iloc[-1])\n",
        "    print(\"Signal Line:\", data['Signal_Line'].iloc[-1])\n",
        "\n",
        "    # رسم المخطط\n",
        "    plt.figure(figsize=(12, 6))\n",
        "    plt.plot(data['MACD'], label='MACD', color='blue')\n",
        "    plt.plot(data['Signal_Line'], label='Signal Line', color='orange')\n",
        "    plt.bar(data.index, data['MACD'] - data['Signal_Line'], label='Histogram', color='lightgray')\n",
        "    plt.title('MACD Indicator')\n",
        "    plt.xlabel('Date')\n",
        "    plt.ylabel('MACD Value')\n",
        "    plt.axhline(0, color='black', linewidth=0.5, linestyle='--')\n",
        "    plt.legend()\n",
        "    plt.show()\n",
        "\n",
        "# مثال على كيفية استخدام الدالة\n",
        "# تأكد من أن لديك بيانات في DataFrame باسم `data` تحتوي على عمود 'close'\n",
        "# plot_macd(data)\n"
      ],
      "metadata": {
        "id": "A62LPykcwWe_"
      },
      "execution_count": null,
      "outputs": []
    }
  ]
}