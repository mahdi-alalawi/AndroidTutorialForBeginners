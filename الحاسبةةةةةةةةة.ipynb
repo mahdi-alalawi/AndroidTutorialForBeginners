{
  "nbformat": 4,
  "nbformat_minor": 0,
  "metadata": {
    "colab": {
      "private_outputs": true,
      "provenance": [],
      "include_colab_link": true
    },
    "kernelspec": {
      "name": "python3",
      "display_name": "Python 3"
    },
    "language_info": {
      "name": "python"
    }
  },
  "cells": [
    {
      "cell_type": "markdown",
      "metadata": {
        "id": "view-in-github",
        "colab_type": "text"
      },
      "source": [
        "<a href=\"https://colab.research.google.com/github/mahdi-alalawi/AndroidTutorialForBeginners/blob/master/%D8%A7%D9%84%D8%AD%D8%A7%D8%B3%D8%A8%D8%A9%D8%A9%D8%A9%D8%A9%D8%A9%D8%A9%D8%A9%D8%A9%D8%A9.ipynb\" target=\"_parent\"><img src=\"https://colab.research.google.com/assets/colab-badge.svg\" alt=\"Open In Colab\"/></a>"
      ]
    },
    {
      "cell_type": "code",
      "source": [
        "def calculate_moving_average20(data, period=20):\n",
        "    \"\"\"حساب المتوسط المتحرك لمدة 20 يومًا.\"\"\"\n",
        "    try:\n",
        "        # حساب المتوسط المتحرك\n",
        "        data['MA20'] = data['close'].rolling(window=period).mean()\n",
        "\n",
        "        # طباعة آخر قيمة من المتوسط المتحرك\n",
        "        print(f\"Moving Average20 (MA20): {data['MA20'].iloc[-1]}\")\n",
        "\n",
        "        return data\n",
        "    except Exception as e:\n",
        "        print(f\"An error occurred while calculating moving average: {e}\")\n",
        "        return data\n"
      ],
      "metadata": {
        "id": "idrAsQ-hdL9A"
      },
      "execution_count": null,
      "outputs": []
    }
  ]
}