{
  "nbformat": 4,
  "nbformat_minor": 0,
  "metadata": {
    "colab": {
      "private_outputs": true,
      "provenance": [],
      "include_colab_link": true
    },
    "kernelspec": {
      "name": "python3",
      "display_name": "Python 3"
    },
    "language_info": {
      "name": "python"
    }
  },
  "cells": [
    {
      "cell_type": "markdown",
      "metadata": {
        "id": "view-in-github",
        "colab_type": "text"
      },
      "source": [
        "<a href=\"https://colab.research.google.com/github/mahdi-alalawi/AndroidTutorialForBeginners/blob/master/%D8%A7%D9%84%D8%AD%D8%A7%D8%B3%D8%A8%D8%A9%D8%A9%D8%A9%D8%A9%D8%A9%D8%A9%D8%A9%D8%A9%D8%A9.ipynb\" target=\"_parent\"><img src=\"https://colab.research.google.com/assets/colab-badge.svg\" alt=\"Open In Colab\"/></a>"
      ]
    },
    {
      "cell_type": "code",
      "execution_count": null,
      "metadata": {
        "id": "gVJqGtlfFiq6"
      },
      "outputs": [],
      "source": [
        "RSI: 49.106551952349506\n",
        "Moving Average (MA): 2991.5822\n",
        "Moving Average20 (MA): 2993.798\n",
        "Last Row: close          2994.400000\n",
        "high           2997.200000\n",
        "low            2993.230000\n",
        "target         2994.120000\n",
        "RSI              49.106552\n",
        "MA             2993.798000\n",
        "Premium           9.600000\n",
        "Discount          6.900000\n",
        "Middle_Band    2996.276000\n",
        "Std_Dev           1.102511\n",
        "Upper_Band     2998.481022\n",
        "Lower_Band     2994.070978\n",
        "EMA_short      2995.502911\n",
        "EMA_long       2994.324670\n",
        "MACD              1.178241\n",
        "Signal_Line       1.180385\n",
        "%K               58.181818\n",
        "%D               68.995671\n",
        "Name: 2025-03-17 19:30:00, dtype: float64\n",
        "Open Positions Count: 0\n",
        "An error occurred while building the strategy: 'MA20'\n",
        "Warning: 'volume' column is missing from the data.\n"
      ]
    },
    {
      "cell_type": "code",
      "source": [
        "RSI: 47.887640449438614\n",
        "Moving Average (MA): 2992.0395999999996\n",
        "Last Row: close          2997.010000\n",
        "high           2997.340000\n",
        "low            2994.330000\n",
        "target         2997.830000\n",
        "RSI              47.887640\n",
        "MA             2992.039600\n",
        "MA20           2993.937500\n",
        "Premium          12.210000\n",
        "Discount          3.340000\n",
        "Middle_Band    2995.834000\n",
        "Std_Dev           1.374202\n",
        "Upper_Band     2998.582403\n",
        "Lower_Band     2993.085597\n",
        "EMA_short      2995.575576\n",
        "EMA_long       2994.520520\n",
        "MACD              1.055056\n",
        "Signal_Line       1.125403\n",
        "%K               78.520900\n",
        "%D               69.104717\n",
        "Name: 2025-03-17 20:00:00, dtype: float64\n",
        "Open Positions Count: 0"
      ],
      "metadata": {
        "id": "axAq0vWEKu1z"
      },
      "execution_count": null,
      "outputs": []
    },
    {
      "cell_type": "code",
      "source": [
        "RSI: 64.68962585034046\n",
        "Moving Average (MA): 3007.0019999999995\n",
        "Moving Average20 (MA): 3013.951\n",
        "Last Row: close          3019.560000\n",
        "high           3019.610000\n",
        "low            3016.430000\n",
        "target         3020.130000\n",
        "RSI              64.689626\n",
        "MA             3013.951000\n",
        "Premium          13.470000\n",
        "Discount          0.050000\n",
        "Middle_Band    3017.792000\n",
        "Std_Dev           1.205662\n",
        "Upper_Band     3020.203323\n",
        "Lower_Band     3015.380677\n",
        "EMA_short      3015.601845\n",
        "EMA_long       3012.462363\n",
        "MACD              3.139482\n",
        "Signal_Line       2.954305\n",
        "%K               99.630178\n",
        "%D               88.350701\n",
        "Name: 2025-03-18 11:00:00, dtype: float64\n",
        "Open Positions Count: 0"
      ],
      "metadata": {
        "id": "CTcDvXieWAiZ"
      },
      "execution_count": null,
      "outputs": []
    }
  ]
}