{
  "nbformat": 4,
  "nbformat_minor": 0,
  "metadata": {
    "colab": {
      "private_outputs": true,
      "provenance": [],
      "authorship_tag": "ABX9TyOO7/HsOmMEZ6pYMMNYCcfK",
      "include_colab_link": true
    },
    "kernelspec": {
      "name": "python3",
      "display_name": "Python 3"
    },
    "language_info": {
      "name": "python"
    }
  },
  "cells": [
    {
      "cell_type": "markdown",
      "metadata": {
        "id": "view-in-github",
        "colab_type": "text"
      },
      "source": [
        "<a href=\"https://colab.research.google.com/github/mahdi-alalawi/AndroidTutorialForBeginners/blob/master/%D8%A7%D9%84%D8%AD%D8%A7%D8%B3%D8%A8%D8%A9%D8%A9%D8%A9%D8%A9%D8%A9%D8%A9%D8%A9%D8%A9%D8%A9.ipynb\" target=\"_parent\"><img src=\"https://colab.research.google.com/assets/colab-badge.svg\" alt=\"Open In Colab\"/></a>"
      ]
    },
    {
      "cell_type": "code",
      "execution_count": null,
      "metadata": {
        "id": "gVJqGtlfFiq6"
      },
      "outputs": [],
      "source": [
        "RSI: 49.106551952349506\n",
        "Moving Average (MA): 2991.5822\n",
        "Moving Average20 (MA): 2993.798\n",
        "Last Row: close          2994.400000\n",
        "high           2997.200000\n",
        "low            2993.230000\n",
        "target         2994.120000\n",
        "RSI              49.106552\n",
        "MA             2993.798000\n",
        "Premium           9.600000\n",
        "Discount          6.900000\n",
        "Middle_Band    2996.276000\n",
        "Std_Dev           1.102511\n",
        "Upper_Band     2998.481022\n",
        "Lower_Band     2994.070978\n",
        "EMA_short      2995.502911\n",
        "EMA_long       2994.324670\n",
        "MACD              1.178241\n",
        "Signal_Line       1.180385\n",
        "%K               58.181818\n",
        "%D               68.995671\n",
        "Name: 2025-03-17 19:30:00, dtype: float64\n",
        "Open Positions Count: 0\n",
        "An error occurred while building the strategy: 'MA20'\n",
        "Warning: 'volume' column is missing from the data.\n"
      ]
    },
    {
      "cell_type": "code",
      "source": [
        "RSI: 47.887640449438614\n",
        "Moving Average (MA): 2992.0395999999996\n",
        "Last Row: close          2997.010000\n",
        "high           2997.340000\n",
        "low            2994.330000\n",
        "target         2997.830000\n",
        "RSI              47.887640\n",
        "MA             2992.039600\n",
        "MA20           2993.937500\n",
        "Premium          12.210000\n",
        "Discount          3.340000\n",
        "Middle_Band    2995.834000\n",
        "Std_Dev           1.374202\n",
        "Upper_Band     2998.582403\n",
        "Lower_Band     2993.085597\n",
        "EMA_short      2995.575576\n",
        "EMA_long       2994.520520\n",
        "MACD              1.055056\n",
        "Signal_Line       1.125403\n",
        "%K               78.520900\n",
        "%D               69.104717\n",
        "Name: 2025-03-17 20:00:00, dtype: float64\n",
        "Open Positions Count: 0"
      ],
      "metadata": {
        "id": "axAq0vWEKu1z"
      },
      "execution_count": null,
      "outputs": []
    },
    {
      "cell_type": "code",
      "source": [
        "Warning: 'volume' column is missing from the data.\n",
        "RSI: 55.34557235421172\n",
        "Moving Average (MA): 3001.3806\n",
        "Last Row: close          3004.120000\n",
        "high           3005.000000\n",
        "low            3002.790000\n",
        "target         3004.450000\n",
        "RSI              55.345572\n",
        "MA             3001.380600\n",
        "MA20           3002.034000\n",
        "Premium           4.610000\n",
        "Discount          1.040000\n",
        "Middle_Band    3003.796000\n",
        "Std_Dev           0.518102\n",
        "Upper_Band     3004.832205\n",
        "Lower_Band     3002.759795\n",
        "EMA_short      3002.738412\n",
        "EMA_long       3002.071566\n",
        "MACD              0.666846\n",
        "Signal_Line       0.408499\n",
        "%K               81.592920\n",
        "%D               72.089545\n",
        "Name: 2025-03-18 04:40:00, dtype: float64\n",
        "Open Positions Count: 0"
      ],
      "metadata": {
        "id": "uV5wDQss-KY0"
      },
      "execution_count": null,
      "outputs": []
    }
  ]
}