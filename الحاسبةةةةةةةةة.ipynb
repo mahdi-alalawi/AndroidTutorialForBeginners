{
  "nbformat": 4,
  "nbformat_minor": 0,
  "metadata": {
    "colab": {
      "private_outputs": true,
      "provenance": [],
      "authorship_tag": "ABX9TyPNkuvKQ3yUWRLctaG5Eqcr",
      "include_colab_link": true
    },
    "kernelspec": {
      "name": "python3",
      "display_name": "Python 3"
    },
    "language_info": {
      "name": "python"
    }
  },
  "cells": [
    {
      "cell_type": "markdown",
      "metadata": {
        "id": "view-in-github",
        "colab_type": "text"
      },
      "source": [
        "<a href=\"https://colab.research.google.com/github/mahdi-alalawi/AndroidTutorialForBeginners/blob/master/%D8%A7%D9%84%D8%AD%D8%A7%D8%B3%D8%A8%D8%A9%D8%A9%D8%A9%D8%A9%D8%A9%D8%A9%D8%A9%D8%A9%D8%A9.ipynb\" target=\"_parent\"><img src=\"https://colab.research.google.com/assets/colab-badge.svg\" alt=\"Open In Colab\"/></a>"
      ]
    },
    {
      "cell_type": "code",
      "execution_count": null,
      "metadata": {
        "id": "gVJqGtlfFiq6"
      },
      "outputs": [],
      "source": [
        "RSI: 49.106551952349506\n",
        "Moving Average (MA): 2991.5822\n",
        "Moving Average20 (MA): 2993.798\n",
        "Last Row: close          2994.400000\n",
        "high           2997.200000\n",
        "low            2993.230000\n",
        "target         2994.120000\n",
        "RSI              49.106552\n",
        "MA             2993.798000\n",
        "Premium           9.600000\n",
        "Discount          6.900000\n",
        "Middle_Band    2996.276000\n",
        "Std_Dev           1.102511\n",
        "Upper_Band     2998.481022\n",
        "Lower_Band     2994.070978\n",
        "EMA_short      2995.502911\n",
        "EMA_long       2994.324670\n",
        "MACD              1.178241\n",
        "Signal_Line       1.180385\n",
        "%K               58.181818\n",
        "%D               68.995671\n",
        "Name: 2025-03-17 19:30:00, dtype: float64\n",
        "Open Positions Count: 0\n",
        "An error occurred while building the strategy: 'MA20'\n",
        "Warning: 'volume' column is missing from the data.\n"
      ]
    },
    {
      "cell_type": "code",
      "source": [
        "def calculate_moving_average20(data, period=20):\n",
        "    \"\"\"حساب المتوسط المتحرك لفترة 20.\"\"\"\n",
        "    try:\n",
        "        data['MA20'] = data['close'].rolling(window=period).mean()\n",
        "        return data\n",
        "    except Exception as e:\n",
        "        print(f\"An error occurred while calculating moving average: {e}\")\n",
        "        return data\n"
      ],
      "metadata": {
        "id": "IQVuC0iVHAVx"
      },
      "execution_count": null,
      "outputs": []
    }
  ]
}