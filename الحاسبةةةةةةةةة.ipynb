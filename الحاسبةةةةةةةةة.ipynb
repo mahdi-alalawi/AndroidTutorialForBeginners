{
  "nbformat": 4,
  "nbformat_minor": 0,
  "metadata": {
    "colab": {
      "private_outputs": true,
      "provenance": [],
      "include_colab_link": true
    },
    "kernelspec": {
      "name": "python3",
      "display_name": "Python 3"
    },
    "language_info": {
      "name": "python"
    }
  },
  "cells": [
    {
      "cell_type": "markdown",
      "metadata": {
        "id": "view-in-github",
        "colab_type": "text"
      },
      "source": [
        "<a href=\"https://colab.research.google.com/github/mahdi-alalawi/AndroidTutorialForBeginners/blob/master/%D8%A7%D9%84%D8%AD%D8%A7%D8%B3%D8%A8%D8%A9%D8%A9%D8%A9%D8%A9%D8%A9%D8%A9%D8%A9%D8%A9%D8%A9.ipynb\" target=\"_parent\"><img src=\"https://colab.research.google.com/assets/colab-badge.svg\" alt=\"Open In Colab\"/></a>"
      ]
    },
    {
      "cell_type": "code",
      "execution_count": null,
      "metadata": {
        "id": "gVJqGtlfFiq6"
      },
      "outputs": [],
      "source": [
        "RSI: 49.106551952349506\n",
        "Moving Average (MA): 2991.5822\n",
        "Moving Average20 (MA): 2993.798\n",
        "Last Row: close          2994.400000\n",
        "high           2997.200000\n",
        "low            2993.230000\n",
        "target         2994.120000\n",
        "RSI              49.106552\n",
        "MA             2993.798000\n",
        "Premium           9.600000\n",
        "Discount          6.900000\n",
        "Middle_Band    2996.276000\n",
        "Std_Dev           1.102511\n",
        "Upper_Band     2998.481022\n",
        "Lower_Band     2994.070978\n",
        "EMA_short      2995.502911\n",
        "EMA_long       2994.324670\n",
        "MACD              1.178241\n",
        "Signal_Line       1.180385\n",
        "%K               58.181818\n",
        "%D               68.995671\n",
        "Name: 2025-03-17 19:30:00, dtype: float64\n",
        "Open Positions Count: 0\n",
        "An error occurred while building the strategy: 'MA20'\n",
        "Warning: 'volume' column is missing from the data.\n"
      ]
    },
    {
      "cell_type": "code",
      "source": [
        "RSI: 47.887640449438614\n",
        "Moving Average (MA): 2992.0395999999996\n",
        "Last Row: close          2997.010000\n",
        "high           2997.340000\n",
        "low            2994.330000\n",
        "target         2997.830000\n",
        "RSI              47.887640\n",
        "MA             2992.039600\n",
        "MA20           2993.937500\n",
        "Premium          12.210000\n",
        "Discount          3.340000\n",
        "Middle_Band    2995.834000\n",
        "Std_Dev           1.374202\n",
        "Upper_Band     2998.582403\n",
        "Lower_Band     2993.085597\n",
        "EMA_short      2995.575576\n",
        "EMA_long       2994.520520\n",
        "MACD              1.055056\n",
        "Signal_Line       1.125403\n",
        "%K               78.520900\n",
        "%D               69.104717\n",
        "Name: 2025-03-17 20:00:00, dtype: float64\n",
        "Open Positions Count: 0"
      ],
      "metadata": {
        "id": "axAq0vWEKu1z"
      },
      "execution_count": null,
      "outputs": []
    },
    {
      "cell_type": "code",
      "source": [
        "RSI: 63.61445783132573\n",
        "Moving Average (MA): 3006.5888\n",
        "Moving Average20 (MA): 3013.6295\n",
        "Last Row: close          3016.550000\n",
        "high           3017.950000\n",
        "low            3015.450000\n",
        "target         3019.170000\n",
        "RSI              63.614458\n",
        "MA             3013.629500\n",
        "Premium          10.460000\n",
        "Discount          2.290000\n",
        "Middle_Band    3016.986000\n",
        "Std_Dev           1.067371\n",
        "Upper_Band     3019.120741\n",
        "Lower_Band     3014.851259\n",
        "EMA_short      3014.882181\n",
        "EMA_long       3011.894552\n",
        "MACD              2.987629\n",
        "Signal_Line       2.908010\n",
        "%K               82.039216\n",
        "%D               83.817567\n",
        "Name: 2025-03-18 10:45:00, dtype: float64\n",
        "Open Positions Count: 0"
      ],
      "metadata": {
        "id": "XuwsRr-_T96m"
      },
      "execution_count": null,
      "outputs": []
    }
  ]
}