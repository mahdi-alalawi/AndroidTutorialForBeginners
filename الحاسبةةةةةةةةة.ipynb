{
  "nbformat": 4,
  "nbformat_minor": 0,
  "metadata": {
    "colab": {
      "private_outputs": true,
      "provenance": [],
      "include_colab_link": true
    },
    "kernelspec": {
      "name": "python3",
      "display_name": "Python 3"
    },
    "language_info": {
      "name": "python"
    }
  },
  "cells": [
    {
      "cell_type": "markdown",
      "metadata": {
        "id": "view-in-github",
        "colab_type": "text"
      },
      "source": [
        "<a href=\"https://colab.research.google.com/github/mahdi-alalawi/AndroidTutorialForBeginners/blob/master/%D8%A7%D9%84%D8%AD%D8%A7%D8%B3%D8%A8%D8%A9%D8%A9%D8%A9%D8%A9%D8%A9%D8%A9%D8%A9%D8%A9%D8%A9.ipynb\" target=\"_parent\"><img src=\"https://colab.research.google.com/assets/colab-badge.svg\" alt=\"Open In Colab\"/></a>"
      ]
    },
    {
      "cell_type": "code",
      "source": [
        "def calculate_moving_average20(data, period=20):\n",
        "    \"\"\"حساب المتوسط المتحرك لمدة 20 يومًا.\"\"\"\n",
        "    try:\n",
        "        # حساب المتوسط المتحرك\n",
        "        data['MA20'] = data['close'].rolling(window=period).mean()\n",
        "\n",
        "        # طباعة آخر قيمة من المتوسط المتحرك\n",
        "        print(f\"Moving Average20 (MA20): {data['MA20'].iloc[-1]}\")\n",
        "\n",
        "        return data\n",
        "    except Exception as e:\n",
        "        print(f\"An error occurred while calculating moving average: {e}\")\n",
        "        return data\n"
      ],
      "metadata": {
        "id": "idrAsQ-hdL9A"
      },
      "execution_count": null,
      "outputs": []
    },
    {
      "cell_type": "code",
      "source": [
        "RSI: 68.4489950701559\n",
        "Moving Average (MA): 3008.6107999999995\n",
        "Moving Average20 (MA): 3016.086\n",
        "Last Row: close          3026.690000\n",
        "high           3027.310000\n",
        "low            3024.860000\n",
        "target         3027.450000\n",
        "RSI              68.448995\n",
        "MA             3016.086000\n",
        "Premium          20.600000\n",
        "Discount          0.630000\n",
        "Middle_Band    3022.768000\n",
        "Std_Dev           4.537727\n",
        "Upper_Band     3031.843455\n",
        "Lower_Band     3013.692545\n",
        "EMA_short      3019.715355\n",
        "EMA_long       3015.247190\n",
        "MACD              4.468165\n",
        "Signal_Line       3.525819\n",
        "%K               97.032501\n",
        "%D               92.348989\n",
        "Name: 2025-03-18 11:45:00, dtype: float64\n",
        "Open Positions Count: 0\n",
        "An error occurred while building the strategy: 'MA20'"
      ],
      "metadata": {
        "id": "xSUVON6JgDIe"
      },
      "execution_count": null,
      "outputs": []
    }
  ]
}