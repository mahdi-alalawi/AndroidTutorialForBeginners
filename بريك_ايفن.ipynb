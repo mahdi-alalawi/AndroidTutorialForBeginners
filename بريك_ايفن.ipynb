{
  "nbformat": 4,
  "nbformat_minor": 0,
  "metadata": {
    "colab": {
      "private_outputs": true,
      "provenance": [],
      "authorship_tag": "ABX9TyPFyFwxUlDBEiBwBLbKLAiK",
      "include_colab_link": true
    },
    "kernelspec": {
      "name": "python3",
      "display_name": "Python 3"
    },
    "language_info": {
      "name": "python"
    }
  },
  "cells": [
    {
      "cell_type": "markdown",
      "metadata": {
        "id": "view-in-github",
        "colab_type": "text"
      },
      "source": [
        "<a href=\"https://colab.research.google.com/github/mahdi-alalawi/AndroidTutorialForBeginners/blob/master/%D8%A8%D8%B1%D9%8A%D9%83_%D8%A7%D9%8A%D9%81%D9%86.ipynb\" target=\"_parent\"><img src=\"https://colab.research.google.com/assets/colab-badge.svg\" alt=\"Open In Colab\"/></a>"
      ]
    },
    {
      "cell_type": "code",
      "source": [
        "def set_break_even(symbol):\n",
        "    \"\"\"تعيين وقف الخسارة لجميع الصفقات المفتوحة إلى مستويات مختلفة بناءً على تقدم السعر نحو الهدف.\"\"\"\n",
        "    positions = mt5.positions_get(symbol=symbol)\n",
        "\n",
        "    if positions:\n",
        "        for position in positions:\n",
        "            # الحصول على سعر الدخول وسعر جني الأرباح\n",
        "            entry_price = position.price_open\n",
        "            take_profit = position.tp  # سعر جني الأرباح\n",
        "\n",
        "            # حساب المسافة بين سعر الدخول وسعر جني الأرباح\n",
        "            distance_to_tp = take_profit - entry_price\n",
        "\n",
        "            # الحصول على السعر الحالي\n",
        "            current_price = mt5.symbol_info_tick(position.symbol).bid  # الحصول على السعر الحالي\n",
        "\n",
        "            # حساب النسب المئوية\n",
        "            fifty_percent_target = entry_price + (0.36 * distance_to_tp)\n",
        "            seventy_five_percent_target = entry_price + (0.72 * distance_to_tp)\n",
        "            ninety_percent_target = entry_price + (0.84 * distance_to_tp)\n",
        "\n",
        "            # تعيين وقف الخسارة بناءً على تقدم السعر\n",
        "            if current_price >= fifty_percent_target:\n",
        "                new_stop_loss = entry_price + (0.12 * distance_to_tp)\n",
        "                update_stop_loss(position, new_stop_loss)\n",
        "\n",
        "            if current_price >= seventy_five_percent_target:\n",
        "                new_stop_loss = entry_price + (0.24 * distance_to_tp)\n",
        "                update_stop_loss(position, new_stop_loss)\n",
        "\n",
        "            if current_price >= ninety_percent_target:\n",
        "                new_stop_loss = entry_price + (0.48 * distance_to_tp)\n",
        "                update_stop_loss(position, new_stop_loss)\n"
      ],
      "metadata": {
        "id": "lrlzn9qGvxiS"
      },
      "execution_count": null,
      "outputs": []
    }
  ]
}