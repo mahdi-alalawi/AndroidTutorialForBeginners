{
  "nbformat": 4,
  "nbformat_minor": 0,
  "metadata": {
    "colab": {
      "private_outputs": true,
      "provenance": [],
      "authorship_tag": "ABX9TyMBtqEuEt+NTEZLxowo4k6d",
      "include_colab_link": true
    },
    "kernelspec": {
      "name": "python3",
      "display_name": "Python 3"
    },
    "language_info": {
      "name": "python"
    }
  },
  "cells": [
    {
      "cell_type": "markdown",
      "metadata": {
        "id": "view-in-github",
        "colab_type": "text"
      },
      "source": [
        "<a href=\"https://colab.research.google.com/github/mahdi-alalawi/AndroidTutorialForBeginners/blob/master/%D8%A7%D9%84%D8%A7%D8%AE%D8%A8%D8%A7%D8%B1_%D8%B0%D8%A7%D8%AA_%D8%A7%D9%84%D8%AA%D8%A7%D8%AB%D9%8A%D8%B1_%D8%A7%D9%84%D8%B9%D8%A7%D9%84%D9%8A.ipynb\" target=\"_parent\"><img src=\"https://colab.research.google.com/assets/colab-badge.svg\" alt=\"Open In Colab\"/></a>"
      ]
    },
    {
      "cell_type": "code",
      "execution_count": null,
      "metadata": {
        "id": "uwS1Qs690YAK"
      },
      "outputs": [],
      "source": [
        "def fetch_high_impact_news():\n",
        "    \"\"\"جمع الأخبار ذات التأثير العالي من موقع Investing.com أو أي مصدر موثوق.\"\"\"\n",
        "    try:\n",
        "        url = \"https://www.investing.com/economic-calendar/\"\n",
        "        response = requests.get(url)\n",
        "        soup = BeautifulSoup(response.content, 'html.parser')\n",
        "        news_items = soup.select('tr[data-event-type=\"high\"]')  # افترض أن الأخبار ذات التأثير العالي لها خاصية معينة\n",
        "\n",
        "        high_impact_news = []\n",
        "        for item in news_items:\n",
        "            time_str = item.select_one('.event-date').text.strip()\n",
        "            date_str = item.select_one('.event-time').text.strip()\n",
        "            event_time = pd.to_datetime(f\"{date_str} {time_str}\")\n",
        "            high_impact_news.append(event_time)\n",
        "\n",
        "        return high_impact_news\n",
        "    except Exception as e:\n",
        "        print(f\"An error occurred while fetching high impact news: {e}\")\n",
        "        return []\n"
      ]
    },
    {
      "cell_type": "code",
      "source": [
        "def is_news_time(high_impact_news):\n",
        "    \"\"\"التحقق مما إذا كان الوقت الحالي قريبًا من موعد صدور الأخبار ذات التأثير العالي.\"\"\"\n",
        "    current_time = pd.Timestamp.now()\n",
        "    for news_time in high_impact_news:\n",
        "        if (news_time - pd.Timedelta(hours=1) <= current_time <= news_time + pd.Timedelta(hours=1)):\n",
        "            return True\n",
        "    return False\n"
      ],
      "metadata": {
        "id": "rQWVxNf40jmE"
      },
      "execution_count": null,
      "outputs": []
    },
    {
      "cell_type": "code",
      "source": [
        "def build_strategy(data):\n",
        "    \"\"\"بناء الاستراتيجية الكاملة مع تحليل جميع المؤشرات.\"\"\"\n",
        "    try:\n",
        "        # جلب الأخبار ذات التأثير العالي\n",
        "        high_impact_news = fetch_high_impact_news()\n",
        "\n",
        "        # التحقق مما إذا كان الوقت الحالي قريبًا من موعد صدور الأخبار\n",
        "        if is_news_time(high_impact_news):\n",
        "            print(\"لا يمكن فتح صفقات بسبب الأخبار ذات التأثير العالي.\")\n",
        "            return\n",
        "\n",
        "        # باقي الكود كما هو...\n"
      ],
      "metadata": {
        "id": "AOCJVULm0nkk"
      },
      "execution_count": null,
      "outputs": []
    }
  ]
}